{
 "cells": [
  {
   "cell_type": "markdown",
   "metadata": {},
   "source": [
    "# Fully Connected Artificial Neural Networks from scratch\n",
    "\n",
    "#### This notebook implements neural network model with fully connected layers using only numpy\n",
    "#### ---------------------------------------------------------------------------------------------------------------\n",
    "\n",
    "This notebook demonstrates how fully connected neural network can be constructed without libraries such as PyTorch, Keras or Tensorflow which carry out most of the computations under the hood. This implementation is my won and I originally wrote to understand network models better while learning deep learning from various resources. Please note that the this neural network model is not suited for production but it should be consider as a learning resource."
   ]
  },
  {
   "cell_type": "markdown",
   "metadata": {},
   "source": [
    "## Dependencies"
   ]
  },
  {
   "cell_type": "code",
   "execution_count": 1,
   "metadata": {},
   "outputs": [],
   "source": [
    "import numpy as np\n",
    "from matplotlib import pyplot as plt"
   ]
  },
  {
   "cell_type": "markdown",
   "metadata": {},
   "source": [
    "## Global Variables"
   ]
  },
  {
   "cell_type": "code",
   "execution_count": 2,
   "metadata": {},
   "outputs": [],
   "source": [
    "run_training=True"
   ]
  },
  {
   "cell_type": "markdown",
   "metadata": {},
   "source": [
    "## Toy Data\n",
    "\n",
    "#### The implementation for toy data generator can be found from toydata.py file"
   ]
  },
  {
   "cell_type": "code",
   "execution_count": 3,
   "metadata": {},
   "outputs": [],
   "source": [
    "from toydata import prepare_byte_data"
   ]
  },
  {
   "cell_type": "markdown",
   "metadata": {},
   "source": [
    "The \"prepare_byte_data\"-method generetas toy data in binary representation. The reasoning behind using binary data to solve a toy problem is that each bit can be used as a separate input. This representation is better suited for the neural network than using only one integer value.\n",
    "\n",
    "The format of the data is as follows:"
   ]
  },
  {
   "cell_type": "code",
   "execution_count": 4,
   "metadata": {},
   "outputs": [
    {
     "name": "stdout",
     "output_type": "stream",
     "text": [
      "Raw input is represented as:\n",
      "[[155]\n",
      " [ 71]\n",
      " [ 11]\n",
      " [244]\n",
      " [134]]\n",
      "\n",
      "Input in binary form is represented as:\n",
      "[[1. 0. 0. 1. 1. 0. 1. 1.]\n",
      " [0. 1. 0. 0. 0. 1. 1. 1.]\n",
      " [0. 0. 0. 0. 1. 0. 1. 1.]\n",
      " [1. 1. 1. 1. 0. 1. 0. 0.]\n",
      " [1. 0. 0. 0. 0. 1. 1. 0.]]\n",
      "\n",
      "True output y=2*x is represented as:\n",
      "[[310]\n",
      " [142]\n",
      " [ 22]\n",
      " [488]\n",
      " [268]]\n",
      "\n"
     ]
    }
   ],
   "source": [
    "sample_size = 5\n",
    "sample_data = prepare_byte_data(sample_size,y_function = lambda x:2*x)\n",
    "for i in range(len(sample_data)):\n",
    "    print(f\"{['Raw input', 'Input in binary form', 'True output y=2*x'][i]} is represented as:\\n{sample_data[i]}\\n\")"
   ]
  },
  {
   "cell_type": "markdown",
   "metadata": {},
   "source": [
    "## Activation funcitions\n",
    "\n",
    "#### Implementations for the activation functions can be found from activation_functions.py\n",
    "\n",
    "The following common activation functions are used in the toy problem\n",
    "* Sigmoid\n",
    "* ReLU"
   ]
  },
  {
   "cell_type": "code",
   "execution_count": 5,
   "metadata": {},
   "outputs": [],
   "source": [
    "from activation_functions import sigmoid, relu, no_activation"
   ]
  },
  {
   "cell_type": "markdown",
   "metadata": {},
   "source": [
    "## Fully connected layer\n",
    "\n",
    "#### Implementation of the fully connected layer used in the model with methods for forward and backward computations \n",
    "\n",
    "Each layer has\n",
    "* Wieght matrix, which includes the bias term if used. Weights will determine the output of the layer.\n",
    "* Activation function, which will be set no activation by default. Activation is applied after to provide nonlinearity.\n",
    "* Gradient matrix of the error with respect to weights (initialized to zero matrix)\n",
    "\n"
   ]
  },
  {
   "cell_type": "code",
   "execution_count": 6,
   "metadata": {},
   "outputs": [],
   "source": [
    "class layer:\n",
    "    def __init__(self,input_size,output_size,bias=True,activation=no_activation):\n",
    "        \n",
    "        # ---- Activation Function ----  \n",
    "        self.activation = activation\n",
    "        \n",
    "        # ---- Bias ----\n",
    "        self.bias = bias      \n",
    "        if bias: input_size+=1\n",
    "        \n",
    "        # ---- Weights ----\n",
    "        self.W = np.random.normal(0,1,(output_size,input_size))\n",
    "        \n",
    "        # ---- The gradient of the error with respect to weights ----\n",
    "        self.dW = np.zeros((output_size,input_size))\n",
    "    \n",
    "    def forward(self,x):\n",
    "        # if bias term is used, constant 1 is added to each input to represent bias\n",
    "        if self.bias == True: x =  np.concatenate((x,np.ones((len(x),1))),axis=-1)\n",
    "        \n",
    "        # Input is saved for backward computations\n",
    "        self.z = x\n",
    "        \n",
    "        # (W^T)X\n",
    "        x = np.dot(x,np.transpose(self.W))\n",
    "        \n",
    "        # The activation is applied\n",
    "        x = self.activation(x)\n",
    "        \n",
    "        return x\n",
    "    \n",
    "    def backward(self,dy,y):\n",
    "        # Backpropagation\n",
    "        d = dy*self.activation(y,derivate=True)\n",
    "        dz = np.dot(d,self.W)\n",
    "        \n",
    "        # The gradient of the error with respect to the weight (for updating weights)\n",
    "        self.dW += np.dot(np.transpose(d),self.z)\n",
    "        \n",
    "        # The bias can be omitted if used (lower layers don't need the information)\n",
    "        if self.bias:\n",
    "            return dz[:,:-1],self.z[:,:-1]\n",
    "        return dz,self.z\n",
    "    \n",
    "    def update_weights(self,lr):\n",
    "        self.W -= lr*self.dW\n",
    "        self.dW = np.zeros(np.shape(self.W))\n",
    "        "
   ]
  },
  {
   "cell_type": "markdown",
   "metadata": {},
   "source": [
    "## Neural Network model with fully connected layers"
   ]
  },
  {
   "cell_type": "code",
   "execution_count": 7,
   "metadata": {},
   "outputs": [],
   "source": [
    "class NN():\n",
    "    def __init__(self):\n",
    "        self.layers=[]\n",
    "        self.N_layers = 0\n",
    "    \n",
    "    def forward(self,x):\n",
    "        for n in range(self.N_layers):\n",
    "            x = self.layers[n].forward(x)\n",
    "        return x\n",
    "    \n",
    "    def backward(self,e,y):\n",
    "        dy=-2*e\n",
    "        for n in range(self.N_layers):\n",
    "            dy,y = self.layers[-(n+1)].backward(dy,y)\n",
    "            \n",
    "    def update_weights(self,lr):\n",
    "        for n in range(self.N_layers):\n",
    "            self.layers[n].update_weights(lr)\n",
    "        \n",
    "    def add_layer(self,input_size,output_size,activation=no_activation,bias=True):\n",
    "        try:\n",
    "            new_layer = layer(input_size, output_size, activation=activation,bias=bias)\n",
    "            self.layers.append(new_layer)\n",
    "            self.N_layers+=1\n",
    "        except:\n",
    "            print(\"FAILURE\")"
   ]
  },
  {
   "cell_type": "markdown",
   "metadata": {},
   "source": [
    "## TEST 1  ||  y = 2x"
   ]
  },
  {
   "cell_type": "code",
   "execution_count": 8,
   "metadata": {},
   "outputs": [],
   "source": [
    "input_size = 1\n",
    "output_size = 1\n",
    "    \n",
    "batch_size = 20\n",
    "epochs = 2000\n",
    "\n",
    "#Learning for x**2\n",
    "lr = 10**-8\n",
    "\n",
    "true_function = lambda x:2*x\n",
    "\n",
    "# Initiate Neural network and add input_layer, hidden layer and output layer\n",
    "Net = NN()\n",
    "Net.add_layer(input_size, output_size)"
   ]
  },
  {
   "cell_type": "code",
   "execution_count": 9,
   "metadata": {},
   "outputs": [
    {
     "data": {
      "image/png": "[encoded data removed]",
      "text/plain": [
       "<Figure size 432x288 with 1 Axes>"
      ]
     },
     "metadata": {
      "needs_background": "light"
     },
     "output_type": "display_data"
    }
   ],
   "source": [
    "# Initiate error vector for plotting\n",
    "errors = np.zeros(epochs)\n",
    "\n",
    "for i in range(epochs):\n",
    "    # Generate inputs\n",
    "    x,x_bit,y = prepare_byte_data(batch_size, y_function = true_function)\n",
    "    \n",
    "    # Forward\n",
    "    y_hat = Net.forward(x)\n",
    "    \n",
    "    #Error\n",
    "    e = (y-y_hat)\n",
    "    \n",
    "    errors[i] = np.sqrt(np.sum(e**2)/batch_size)\n",
    "    \n",
    "    #backward\n",
    "    Net.backward(e, y_hat)\n",
    "    Net.update_weights(lr)\n",
    "    \n",
    "plt.plot(np.log(errors))\n",
    "plt.show()"
   ]
  },
  {
   "cell_type": "code",
   "execution_count": 10,
   "metadata": {},
   "outputs": [
    {
     "name": "stdout",
     "output_type": "stream",
     "text": [
      "#0: true = 168, guess = 167.88\n",
      "#1: true = 68, guess = 67.80\n",
      "#2: true = 256, guess = 255.94\n",
      "#3: true = 114, guess = 113.84\n",
      "#4: true = 496, guess = 496.11\n",
      "#5: true = 124, guess = 123.84\n",
      "#6: true = 502, guess = 502.12\n",
      "#7: true = 380, guess = 380.03\n",
      "#8: true = 218, guess = 217.91\n",
      "#9: true = 192, guess = 191.89\n"
     ]
    }
   ],
   "source": [
    "x_test,x_bit_test,y_test=prepare_byte_data(10, y_function = lambda x:2*x)\n",
    "y_hat_test = Net.forward(x)\n",
    "for i in range(0,10):\n",
    "    print(f\"#{i}: true = {y[i][0]}, guess = {y_hat[i][0]:.2f}\")"
   ]
  },
  {
   "cell_type": "code",
   "execution_count": 11,
   "metadata": {},
   "outputs": [
    {
     "name": "stdout",
     "output_type": "stream",
     "text": [
      "[[ 2.00144678 -0.24595881]]\n"
     ]
    }
   ],
   "source": [
    "for l in Net.layers:\n",
    "    print(l.W)"
   ]
  },
  {
   "cell_type": "markdown",
   "metadata": {},
   "source": [
    "## TEST 2  ||  y  = x^2 "
   ]
  },
  {
   "cell_type": "markdown",
   "metadata": {},
   "source": [
    "## Create a Neural Network model"
   ]
  },
  {
   "cell_type": "code",
   "execution_count": 12,
   "metadata": {},
   "outputs": [],
   "source": [
    "input_size0 = 1\n",
    "output_size0 = 1\n",
    "\n",
    "input_size1 = 8\n",
    "output_size1 = 1\n",
    "hidden_size1 = 8\n",
    "\n",
    "\n",
    "\n",
    "# Initiate Neural network and add input_layer, hidden layer and output layer\n",
    "Net0 = NN()\n",
    "Net0.add_layer(input_size0, output_size0)\n",
    "\n",
    "\n",
    "# Initiate Neural network and add input_layer, hidden layer and output layer\n",
    "Net1 = NN()\n",
    "Net1.add_layer(input_size1, hidden_size1, activation = relu)\n",
    "Net1.add_layer(hidden_size1, hidden_size1, activation = relu)\n",
    "Net1.add_layer(hidden_size1, output_size1, activation = relu)\n",
    "\n",
    "batch_size = 10\n",
    "epochs = 2000\n"
   ]
  },
  {
   "cell_type": "code",
   "execution_count": 13,
   "metadata": {},
   "outputs": [
    {
     "data": {
      "image/png": "[encoded data removed]",
      "text/plain": [
       "<Figure size 432x288 with 1 Axes>"
      ]
     },
     "metadata": {
      "needs_background": "light"
     },
     "output_type": "display_data"
    }
   ],
   "source": [
    "# Initiate error vector for plotting\n",
    "errors0 = np.zeros(epochs)\n",
    "errors1 = np.zeros(epochs)\n",
    "\n",
    "lr0 = 10**-8\n",
    "lr1 = 4*10**-9\n",
    "true_function = lambda x:x**2\n",
    "\n",
    "for i in range(epochs):\n",
    "    # Generate inputs\n",
    "    x,x_bit,y = prepare_byte_data(batch_size, y_function = true_function)\n",
    "    \n",
    "    # Forward\n",
    "    y_hat0 = Net0.forward(x)\n",
    "    y_hat1 = Net1.forward(x_bit)\n",
    "    \n",
    "    #Error    \n",
    "    e0 = (y-y_hat0)\n",
    "    e1 = (y-y_hat1)\n",
    "    errors0[i] = np.sqrt( np.sum(e0**2)/batch_size )\n",
    "    errors1[i] = np.sqrt( np.sum(e1**2)/batch_size )\n",
    "    \n",
    "    #backward\n",
    "    Net0.backward(e0, y_hat0)\n",
    "    Net0.update_weights(lr0)\n",
    "    \n",
    "    Net1.backward(e1, y_hat1)\n",
    "    Net1.update_weights(lr1)\n",
    "\n",
    "plt.plot(np.log(errors0),color='red')\n",
    "plt.plot(np.log(errors1),color='green')\n",
    "plt.show()"
   ]
  },
  {
   "cell_type": "code",
   "execution_count": 14,
   "metadata": {},
   "outputs": [
    {
     "name": "stdout",
     "output_type": "stream",
     "text": [
      "#0: true = 1, model-0 prediction = 190.08, model-1 prediction = 0.05\n",
      "#1: true = 36, model-0 prediction = 1147.40, model-1 prediction = 1.26\n",
      "#2: true = 37249, model-0 prediction = 36951.29, model-1 prediction = 38549.17\n",
      "#3: true = 19600, model-0 prediction = 26803.66, model-1 prediction = 18443.37\n",
      "#4: true = 61009, model-0 prediction = 47290.38, model-1 prediction = 58812.04\n",
      "#5: true = 1225, model-0 prediction = 6699.87, model-1 prediction = 1205.85\n",
      "#6: true = 24336, model-0 prediction = 29867.10, model-1 prediction = 24479.96\n",
      "#7: true = 16129, model-0 prediction = 24314.62, model-1 prediction = 16550.93\n",
      "#8: true = 29929, model-0 prediction = 33122.00, model-1 prediction = 30861.76\n",
      "#9: true = 12769, model-0 prediction = 21634.12, model-1 prediction = 12770.74\n"
     ]
    }
   ],
   "source": [
    "x_test, x_bit_test, y_test=prepare_byte_data(10, y_function = true_function)\n",
    "\n",
    "y_hat_test0 = Net0.forward(x)\n",
    "y_hat_test1 = Net1.forward(x_bit)\n",
    "for i in range(0,10):\n",
    "    print(f\"#{i}: true = {y[i][0]}, model-0 prediction = {y_hat_test0[i][0]:.2f}, model-1 prediction = {y_hat_test1[i][0]:.2f}\")"
   ]
  }
 ],
 "metadata": {
  "kernelspec": {
   "display_name": "Python 3 (ipykernel)",
   "language": "python",
   "name": "python3"
  },
  "language_info": {
   "codemirror_mode": {
    "name": "ipython",
    "version": 3
   },
   "file_extension": ".py",
   "mimetype": "text/x-python",
   "name": "python",
   "nbconvert_exporter": "python",
   "pygments_lexer": "ipython3",
   "version": "3.9.7"
  }
 },
 "nbformat": 4,
 "nbformat_minor": 2
}
