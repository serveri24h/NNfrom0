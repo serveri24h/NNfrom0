{
 "cells": [
  {
   "cell_type": "code",
   "execution_count": 7,
   "metadata": {},
   "outputs": [],
   "source": [
    "import numpy as np\n",
    "from matplotlib import pyplot as plt"
   ]
  },
  {
   "cell_type": "code",
   "execution_count": 8,
   "metadata": {},
   "outputs": [],
   "source": [
    "run_training=True"
   ]
  },
  {
   "cell_type": "code",
   "execution_count": 9,
   "metadata": {},
   "outputs": [],
   "source": [
    "def no_activation(a,derivate=False):\n",
    "    if derivate:\n",
    "        return np.ones(np.shape(a))\n",
    "    return a\n",
    "\n",
    "def sigmoid(a,derivate=False):\n",
    "    if derivate:\n",
    "        return a*(1-a)\n",
    "    b=np.exp(-a)\n",
    "    return(1/(1+b))\n",
    "\n",
    "def relu(a,derivate=False):\n",
    "    b = (a>0)*1\n",
    "    if derivate: \n",
    "        return b\n",
    "    return a*b\n",
    "\n",
    "def return_max(a):\n",
    "    a = np.argmax(a, axis=1)\n",
    "    b = np.zeros((a.size, 3))\n",
    "    b[np.arange(a.size),a] = 1\n",
    "    return b"
   ]
  },
  {
   "cell_type": "code",
   "execution_count": 10,
   "metadata": {},
   "outputs": [],
   "source": [
    "class layer:\n",
    "    def __init__(self,input_size,output_size,bias=True,activation=no_activation):\n",
    "        self.activation = activation\n",
    "        self.bias = bias\n",
    "        if bias:\n",
    "            input_size+=1\n",
    "        self.W = np.random.normal(0,1,(output_size,input_size))\n",
    "        self.dW = np.zeros((output_size,input_size))\n",
    "    \n",
    "    def forward(self,x):\n",
    "        if self.bias == True:\n",
    "            x =  np.concatenate((x,np.ones((len(x),1))),axis=-1)\n",
    "        self.z = x\n",
    "        return self.activation(np.dot(x,np.transpose(self.W)))\n",
    "    \n",
    "    def backward(self,dy,y):\n",
    "        d = dy*self.activation(y,derivate=True)\n",
    "        dz = np.dot(d,self.W)\n",
    "        self.dW += np.dot(np.transpose(d),self.z)\n",
    "        if self.bias:\n",
    "            return dz[:,:-1],self.z[:,:-1]\n",
    "        return dz,self.z\n",
    "    \n",
    "    def update_weights(self,lr):\n",
    "        self.W -= lr*self.dW\n",
    "        self.dW = np.zeros(np.shape(self.W))"
   ]
  },
  {
   "cell_type": "code",
   "execution_count": 11,
   "metadata": {},
   "outputs": [],
   "source": [
    "class polynomial_layer:\n",
    "    def __init__(self,input_size,output_size,order=2,bias=True,activation=no_activation):\n",
    "        self.activation = activation\n",
    "        self.bias = bias\n",
    "        self.order = order\n",
    "        C = input_size*self.order\n",
    "        if bias:\n",
    "            C+=1\n",
    "        self.W = np.random.normal(0,1,(output_size,C))\n",
    "        self.dW = np.zeros((output_size,C))\n",
    "    \n",
    "    def forward(self,x):\n",
    "        if self.order>1:\n",
    "            x = np.concatenate([x**(i+1) for i in range(self.order)],axis=-1)\n",
    "        if self.bias == True:\n",
    "            x =  np.concatenate((x,np.ones((len(x),1))),axis=-1)\n",
    "        self.z = x\n",
    "        return self.activation(np.dot(x,np.transpose(self.W)))\n",
    "    \n",
    "    def backward(self,dy,y):\n",
    "        ################################\n",
    "        #### TÄSSÄ VÄLISSÄ ON VIRHE ####\n",
    "        ################################\n",
    "        d = dy*self.activation(y,derivate=True)\n",
    "        dz = np.dot(d,self.W)\n",
    "        ################################\n",
    "        #### d/dz = a+2bx+3cx^2 ... ####\n",
    "        ################################\n",
    "        self.dW += np.dot(np.transpose(d),self.z)\n",
    "        if self.bias:\n",
    "            return dz[:,:-1],self.z[:,:-1]\n",
    "        return dz,self.z\n",
    "    \n",
    "    def update_weights(self,lr):\n",
    "        self.W -= lr*self.dW\n",
    "        self.dW = np.zeros(np.shape(self.W))"
   ]
  },
  {
   "cell_type": "code",
   "execution_count": 12,
   "metadata": {},
   "outputs": [],
   "source": [
    "class NN():\n",
    "    def __init__(self):\n",
    "        self.layers=[]\n",
    "        self.N_layers = 0\n",
    "    \n",
    "    def forward(self,x):\n",
    "        for n in range(self.N_layers):\n",
    "            x = self.layers[n].forward(x)\n",
    "        return x\n",
    "    \n",
    "    def backward(self,e,y):\n",
    "        dy=-2*e\n",
    "        for n in range(self.N_layers):\n",
    "            dy,y = self.layers[-(n+1)].backward(dy,y)\n",
    "            \n",
    "    def update_weights(self,lr):\n",
    "        for n in range(self.N_layers):\n",
    "            self.layers[n].update_weights(lr)\n",
    "        \n",
    "    def add_layer(self,input_size,output_size,activation=no_activation,bias=True):\n",
    "        try:\n",
    "            new_layer = layer(input_size, output_size, activation=activation,bias=bias)\n",
    "            self.layers.append(new_layer)\n",
    "            self.N_layers+=1\n",
    "        except:\n",
    "            print(\"FAILURE\")\n",
    "    \n",
    "    def add_polynomial_layer(self,input_size,output_size,activation=no_activation,bias=True):\n",
    "        try:\n",
    "            new_layer = polynomial_layer(input_size, output_size, activation=activation,bias=bias)\n",
    "            self.layers.append(new_layer)\n",
    "            self.N_layers+=1\n",
    "        except:\n",
    "            print(\"FAILURE\")"
   ]
  },
  {
   "cell_type": "code",
   "execution_count": 13,
   "metadata": {},
   "outputs": [],
   "source": [
    "def generate_data(dims,N,mu,sigma):\n",
    "    x = np.random.multivariate_normal(np.ones(dims)*mu,np.eye(dims)*sigma,N)\n",
    "    return x\n",
    "\n",
    "def prepare_data(M,N,sigma=1,ordered=False):\n",
    "    x1 = generate_data(M,N,-1,sigma)\n",
    "    x2 = generate_data(M,N,1,sigma)\n",
    "    x = np.concatenate((x1,x2))\n",
    "    y = np.expand_dims(np.concatenate((np.zeros(N),np.ones(N))),axis=1)\n",
    "    if ordered:\n",
    "        return x,y\n",
    "    keys = np.random.permutation(N*2)\n",
    "    x=x[keys]\n",
    "    y=y[keys]\n",
    "    return x,y\n",
    "\n",
    "\n",
    "def make_bit(x,b=8):\n",
    "    x_bit = np.zeros((b,len(x)))\n",
    "    for i in range(8):\n",
    "        b = (x/2**i)%2\n",
    "        x_bit[i]=b\n",
    "        x=x-b*(2**i)\n",
    "    return np.transpose(x_bit)\n",
    "    \n",
    "\n",
    "def get_prime_data(x):\n",
    "    primes = np.array([2,3,5,7,11,13,17,19,23,29,31,37,41,43,47,53,59,61,\n",
    "                       67,71,73,79,83,89,97,101,103,107,109,113,127,131,\n",
    "                       137,139,149,151,157,163,167,173,179,181,191,193,197,\n",
    "                       199,211,223,227,229,233,239,241,251])\n",
    "    return np.array([xi in primes for xi in x])*1\n",
    "\n",
    "def prepare_prime_data(bs=None):\n",
    "    x = np.array( [i for i in range(2,256)] )\n",
    "    x_bit = make_bit(x)\n",
    "    y = get_prime_data(x)\n",
    "    if bs == None:\n",
    "        return x_bit, np.expand_dims(y,axis=1)\n",
    "    keys = np.random.permutation(256-2)\n",
    "    y=np.expand_dims(y[keys],axis=1)\n",
    "    r = np.random.randint(256-bs-3)\n",
    "    return x_bit[r:r+bs],y[r:r+bs]\n",
    "\n",
    "def prepare_complex_data(bs,function):\n",
    "    x = np.random.randint(0,255,bs)\n",
    "    x_bit = make_bit(x)\n",
    "    y = np.expand_dims(function(x),axis=1)\n",
    "    x = np.expand_dims(x,axis=1)\n",
    "    return x,x_bit,y\n",
    "\n"
   ]
  },
  {
   "cell_type": "markdown",
   "metadata": {},
   "source": [
    "## Test 1 y = x^2\n"
   ]
  },
  {
   "cell_type": "code",
   "execution_count": 14,
   "metadata": {},
   "outputs": [
    {
     "data": {
      "image/png": "[encoded data removed]",
      "text/plain": [
       "<Figure size 432x288 with 1 Axes>"
      ]
     },
     "metadata": {
      "needs_background": "light"
     },
     "output_type": "display_data"
    }
   ],
   "source": [
    "input_size = 8\n",
    "output_size = 1\n",
    "hidden_size = 200\n",
    "    \n",
    "batch_size = 50\n",
    "epochs = 4000\n",
    "\n",
    "#Learning for x**2\n",
    "learning_rate = 10**-8/100\n",
    "\n",
    "#Learning for sqrt()\n",
    "#learning_rate = 2.5*10**-5\n",
    "#learning_rate = 10**-6\n",
    "\n",
    "    \n",
    "Net1 = NN()\n",
    "Net1.add_layer(input_size, hidden_size,activation=relu)\n",
    "Net1.add_layer(hidden_size, hidden_size,activation=relu)\n",
    "Net1.add_layer(hidden_size, output_size, activation=relu)\n",
    "errors1 = np.zeros(epochs)\n",
    "\n",
    "Net2 = NN()\n",
    "Net2.add_layer(input_size, hidden_size,activation=relu)\n",
    "Net2.add_layer(hidden_size, output_size, activation=relu)\n",
    "errors2 = np.zeros(epochs)\n",
    "\n",
    "Net3 = NN()\n",
    "Net3.add_layer(input_size, hidden_size,activation=relu)\n",
    "Net3.add_layer(hidden_size, hidden_size,activation=sigmoid)\n",
    "Net3.add_layer(hidden_size, hidden_size,activation=relu)\n",
    "Net3.add_layer(hidden_size, output_size, activation=relu)\n",
    "errors3 = np.zeros(epochs)\n",
    "\n",
    "Net4 = NN()\n",
    "Net4.add_layer(input_size, hidden_size,activation=relu)\n",
    "Net4.add_layer(hidden_size, hidden_size,activation=sigmoid)\n",
    "Net4.add_layer(hidden_size, hidden_size,activation=relu)\n",
    "Net4.add_layer(hidden_size, hidden_size,activation=relu)\n",
    "Net4.add_layer(hidden_size, output_size, activation=relu)\n",
    "errors4 = np.zeros(epochs)\n",
    "\n",
    "for i in range(epochs):\n",
    "    # Generate inputs\n",
    "    x,x_bit,y=prepare_complex_data(batch_size,lambda x:x**2)\n",
    "    # Forward\n",
    "    y_hat_1 = Net1.forward(x_bit)\n",
    "    y_hat_2 = Net2.forward(x_bit)\n",
    "    y_hat_3 = Net3.forward(x_bit)\n",
    "    y_hat_4 = Net4.forward(x_bit)\n",
    "    #Error\n",
    "    e1 = (y-y_hat_1)\n",
    "    e2 = (y-y_hat_2)\n",
    "    e3 = (y-y_hat_3)\n",
    "    e4 = (y-y_hat_4)\n",
    "    errors1[i] = np.sqrt(np.sum(e1**2)/batch_size)\n",
    "    errors2[i] = np.sqrt(np.sum(e2**2)/batch_size)\n",
    "    errors3[i] = np.sqrt(np.sum(e3**2)/batch_size)\n",
    "    errors4[i] = np.sqrt(np.sum(e4**2)/batch_size)\n",
    "    #backward\n",
    "    Net1.backward(e1, y_hat_1)\n",
    "    Net2.backward(e2, y_hat_2)\n",
    "    Net3.backward(e3, y_hat_3)\n",
    "    Net4.backward(e4, y_hat_4)\n",
    "    Net1.update_weights(learning_rate*50)\n",
    "    Net2.update_weights(learning_rate*1000)\n",
    "    Net3.update_weights(learning_rate*50)\n",
    "    Net4.update_weights(learning_rate*3)\n",
    "\n",
    "plt.plot(np.log(errors1))\n",
    "plt.plot(np.log(errors2),color='red')\n",
    "plt.plot(np.log(errors3),color='green')\n",
    "plt.plot(np.log(errors4),color='yellow')\n",
    "plt.show()"
   ]
  },
  {
   "cell_type": "code",
   "execution_count": 16,
   "metadata": {},
   "outputs": [
    {
     "name": "stdout",
     "output_type": "stream",
     "text": [
      "#1: true = 22801, guess1 = 22752.33, guess2 = 2.3e+04, guess3 = 2.3e+04, guess4 =   -0.0\n",
      "#2: true = 51984, guess1 = 52042.64, guess2 = 5.2e+04, guess3 = 5.2e+04, guess4 =   -0.0\n",
      "#3: true = 61009, guess1 = 61035.79, guess2 = 6.1e+04, guess3 = 6.1e+04, guess4 =   -0.0\n",
      "#4: true = 33489, guess1 = 33489.90, guess2 = 3.4e+04, guess3 = 3.3e+04, guess4 =   -0.0\n",
      "#5: true = 56169, guess1 = 56267.35, guess2 = 5.6e+04, guess3 = 5.6e+04, guess4 =   -0.0\n",
      "#6: true = 676, guess1 = 710.81, guess2 = 6.5e+02, guess3 = 6.8e+02, guess4 =   -0.0\n",
      "#7: true = 11881, guess1 = 11924.14, guess2 = 1.2e+04, guess3 = 1.2e+04, guess4 =   -0.0\n",
      "#8: true = 7056, guess1 = 7002.45, guess2 =  7e+03, guess3 = 7.1e+03, guess4 =   -0.0\n",
      "#9: true = 28224, guess1 = 28261.94, guess2 = 2.8e+04, guess3 = 2.8e+04, guess4 =   -0.0\n",
      "#10: true = 49, guess1 = 109.95, guess2 = 3.6e+01, guess3 = 5.8e+01, guess4 =   -0.0\n"
     ]
    }
   ],
   "source": [
    "x,x_bit,y=prepare_complex_data(10,lambda x:x**2)\n",
    "y_hat_1 = Net1.forward(x_bit)\n",
    "y_hat_2 = Net2.forward(x_bit)\n",
    "y_hat_3 = Net3.forward(x_bit)\n",
    "y_hat_4 = Net4.forward(x_bit)\n",
    "for i in range(0,10):\n",
    "    print(\"#{}: true = {}, guess1 = {:6.2f}, guess2 = {:6.2}, guess3 = {:6.2}, guess4 = {:6.2}\".format(\n",
    "        i+1,y[i][0],y_hat_1[i][0],y_hat_2[i][0],y_hat_3[i][0],y_hat_4[i][0]))"
   ]
  },
  {
   "cell_type": "markdown",
   "metadata": {},
   "source": [
    "## Test 2: y=sqrt(x)"
   ]
  },
  {
   "cell_type": "code",
   "execution_count": 22,
   "metadata": {},
   "outputs": [
    {
     "data": {
      "image/png": "[encoded data removed]",
      "text/plain": [
       "<Figure size 432x288 with 1 Axes>"
      ]
     },
     "metadata": {
      "needs_background": "light"
     },
     "output_type": "display_data"
    }
   ],
   "source": [
    "input_size = 8\n",
    "output_size = 1\n",
    "hidden_size = 200\n",
    "    \n",
    "batch_size = 50\n",
    "epochs = 1000\n",
    "\n",
    "#Learning for x**2\n",
    "learning_rate = 10**-8/100\n",
    "\n",
    "#Learning for sqrt()\n",
    "#learning_rate = 2.5*10**-5\n",
    "#learning_rate = 10**-6\n",
    "\n",
    "    \n",
    "Net1 = NN()\n",
    "Net1.add_layer(input_size, hidden_size,activation=relu)\n",
    "Net1.add_layer(hidden_size, hidden_size,activation=relu)\n",
    "Net1.add_layer(hidden_size, output_size, activation=relu)\n",
    "errors1 = np.zeros(epochs)\n",
    "\n",
    "Net2 = NN()\n",
    "Net2.add_layer(input_size, hidden_size,activation=relu)\n",
    "Net2.add_layer(hidden_size, output_size, activation=relu)\n",
    "errors2 = np.zeros(epochs)\n",
    "\n",
    "Net3 = NN()\n",
    "Net3.add_layer(input_size, hidden_size)#,activation=relu)\n",
    "Net3.add_layer(hidden_size, hidden_size)#,activation=sigmoid)\n",
    "Net3.add_layer(hidden_size, hidden_size)#,activation=relu)\n",
    "Net3.add_layer(hidden_size, output_size, activation=relu)\n",
    "errors3 = np.zeros(epochs)\n",
    "\n",
    "Net4 = NN()\n",
    "Net4.add_layer(input_size, hidden_size,activation=relu)\n",
    "Net4.add_layer(hidden_size, hidden_size,activation=relu)\n",
    "Net4.add_layer(hidden_size, hidden_size,activation=relu)\n",
    "Net4.add_layer(hidden_size, hidden_size,activation=relu)\n",
    "Net4.add_layer(hidden_size, output_size, activation=relu)\n",
    "errors4 = np.zeros(epochs)\n",
    "\n",
    "for i in range(epochs):\n",
    "    # Generate inputs\n",
    "    x,x_bit,y=prepare_complex_data(batch_size,lambda x:np.sqrt(x))\n",
    "    # Forward\n",
    "    y_hat_1 = Net1.forward(x_bit)\n",
    "    y_hat_2 = Net2.forward(x_bit)\n",
    "    y_hat_3 = Net3.forward(x_bit)\n",
    "    y_hat_4 = Net4.forward(x_bit)\n",
    "    #Error\n",
    "    e1 = (y-y_hat_1)\n",
    "    e2 = (y-y_hat_2)\n",
    "    e3 = (y-y_hat_3)\n",
    "    e4 = (y-y_hat_4)\n",
    "    errors1[i] = np.sqrt(np.sum(e1**2)/batch_size)\n",
    "    errors2[i] = np.sqrt(np.sum(e2**2)/batch_size)\n",
    "    errors3[i] = np.sqrt(np.sum(e3**2)/batch_size)\n",
    "    errors4[i] = np.sqrt(np.sum(e4**2)/batch_size)\n",
    "    #backward\n",
    "    Net1.backward(e1, y_hat_1)\n",
    "    Net2.backward(e2, y_hat_2)\n",
    "    Net3.backward(e3, y_hat_3)\n",
    "    Net4.backward(e4, y_hat_4)\n",
    "    Net1.update_weights(learning_rate*1000)\n",
    "    Net2.update_weights(learning_rate*100000)\n",
    "    Net3.update_weights(learning_rate*50)\n",
    "    Net4.update_weights(learning_rate)\n",
    "\n",
    "plt.plot(np.log(errors1))\n",
    "plt.plot(np.log(errors2),color='red')\n",
    "plt.plot(np.log(errors3),color='green')\n",
    "plt.plot(np.log(errors4),color='yellow')\n",
    "plt.show()"
   ]
  },
  {
   "cell_type": "markdown",
   "metadata": {},
   "source": [
    "## TEST 3: Polynomial layers"
   ]
  },
  {
   "cell_type": "code",
   "execution_count": 65,
   "metadata": {},
   "outputs": [
    {
     "ename": "ValueError",
     "evalue": "shapes (10,40) and (20,17) not aligned: 40 (dim 1) != 20 (dim 0)",
     "output_type": "error",
     "traceback": [
      "\u001b[0;31m---------------------------------------------------------------------------\u001b[0m",
      "\u001b[0;31mValueError\u001b[0m                                Traceback (most recent call last)",
      "\u001b[0;32m<ipython-input-65-cc5ecffd18d6>\u001b[0m in \u001b[0;36m<module>\u001b[0;34m\u001b[0m\n\u001b[1;32m     36\u001b[0m     \u001b[0merrors2\u001b[0m\u001b[0;34m[\u001b[0m\u001b[0mi\u001b[0m\u001b[0;34m]\u001b[0m \u001b[0;34m=\u001b[0m \u001b[0mnp\u001b[0m\u001b[0;34m.\u001b[0m\u001b[0msqrt\u001b[0m\u001b[0;34m(\u001b[0m\u001b[0mnp\u001b[0m\u001b[0;34m.\u001b[0m\u001b[0msum\u001b[0m\u001b[0;34m(\u001b[0m\u001b[0me2\u001b[0m\u001b[0;34m**\u001b[0m\u001b[0;36m2\u001b[0m\u001b[0;34m)\u001b[0m\u001b[0;34m/\u001b[0m\u001b[0mbatch_size\u001b[0m\u001b[0;34m)\u001b[0m\u001b[0;34m\u001b[0m\u001b[0;34m\u001b[0m\u001b[0m\n\u001b[1;32m     37\u001b[0m     \u001b[0;31m#backward\u001b[0m\u001b[0;34m\u001b[0m\u001b[0;34m\u001b[0m\u001b[0;34m\u001b[0m\u001b[0m\n\u001b[0;32m---> 38\u001b[0;31m     \u001b[0mNet1\u001b[0m\u001b[0;34m.\u001b[0m\u001b[0mbackward\u001b[0m\u001b[0;34m(\u001b[0m\u001b[0me1\u001b[0m\u001b[0;34m,\u001b[0m \u001b[0my_hat_1\u001b[0m\u001b[0;34m)\u001b[0m\u001b[0;34m\u001b[0m\u001b[0;34m\u001b[0m\u001b[0m\n\u001b[0m\u001b[1;32m     39\u001b[0m     \u001b[0mNet2\u001b[0m\u001b[0;34m.\u001b[0m\u001b[0mbackward\u001b[0m\u001b[0;34m(\u001b[0m\u001b[0me2\u001b[0m\u001b[0;34m,\u001b[0m \u001b[0my_hat_2\u001b[0m\u001b[0;34m)\u001b[0m\u001b[0;34m\u001b[0m\u001b[0;34m\u001b[0m\u001b[0m\n\u001b[1;32m     40\u001b[0m     \u001b[0mNet1\u001b[0m\u001b[0;34m.\u001b[0m\u001b[0mupdate_weights\u001b[0m\u001b[0;34m(\u001b[0m\u001b[0mlearning_rate\u001b[0m\u001b[0;34m*\u001b[0m\u001b[0;36m1000\u001b[0m\u001b[0;34m)\u001b[0m\u001b[0;34m\u001b[0m\u001b[0;34m\u001b[0m\u001b[0m\n",
      "\u001b[0;32m<ipython-input-44-080aef56eebe>\u001b[0m in \u001b[0;36mbackward\u001b[0;34m(self, e, y)\u001b[0m\n\u001b[1;32m     12\u001b[0m         \u001b[0mdy\u001b[0m\u001b[0;34m=\u001b[0m\u001b[0;34m-\u001b[0m\u001b[0;36m2\u001b[0m\u001b[0;34m*\u001b[0m\u001b[0me\u001b[0m\u001b[0;34m\u001b[0m\u001b[0;34m\u001b[0m\u001b[0m\n\u001b[1;32m     13\u001b[0m         \u001b[0;32mfor\u001b[0m \u001b[0mn\u001b[0m \u001b[0;32min\u001b[0m \u001b[0mrange\u001b[0m\u001b[0;34m(\u001b[0m\u001b[0mself\u001b[0m\u001b[0;34m.\u001b[0m\u001b[0mN_layers\u001b[0m\u001b[0;34m)\u001b[0m\u001b[0;34m:\u001b[0m\u001b[0;34m\u001b[0m\u001b[0;34m\u001b[0m\u001b[0m\n\u001b[0;32m---> 14\u001b[0;31m             \u001b[0mdy\u001b[0m\u001b[0;34m,\u001b[0m\u001b[0my\u001b[0m \u001b[0;34m=\u001b[0m \u001b[0mself\u001b[0m\u001b[0;34m.\u001b[0m\u001b[0mlayers\u001b[0m\u001b[0;34m[\u001b[0m\u001b[0;34m-\u001b[0m\u001b[0;34m(\u001b[0m\u001b[0mn\u001b[0m\u001b[0;34m+\u001b[0m\u001b[0;36m1\u001b[0m\u001b[0;34m)\u001b[0m\u001b[0;34m]\u001b[0m\u001b[0;34m.\u001b[0m\u001b[0mbackward\u001b[0m\u001b[0;34m(\u001b[0m\u001b[0mdy\u001b[0m\u001b[0;34m,\u001b[0m\u001b[0my\u001b[0m\u001b[0;34m)\u001b[0m\u001b[0;34m\u001b[0m\u001b[0;34m\u001b[0m\u001b[0m\n\u001b[0m\u001b[1;32m     15\u001b[0m \u001b[0;34m\u001b[0m\u001b[0m\n\u001b[1;32m     16\u001b[0m     \u001b[0;32mdef\u001b[0m \u001b[0mupdate_weights\u001b[0m\u001b[0;34m(\u001b[0m\u001b[0mself\u001b[0m\u001b[0;34m,\u001b[0m\u001b[0mlr\u001b[0m\u001b[0;34m)\u001b[0m\u001b[0;34m:\u001b[0m\u001b[0;34m\u001b[0m\u001b[0;34m\u001b[0m\u001b[0m\n",
      "\u001b[0;32m<ipython-input-43-291fff6504c5>\u001b[0m in \u001b[0;36mbackward\u001b[0;34m(self, dy, y)\u001b[0m\n\u001b[1;32m     20\u001b[0m     \u001b[0;32mdef\u001b[0m \u001b[0mbackward\u001b[0m\u001b[0;34m(\u001b[0m\u001b[0mself\u001b[0m\u001b[0;34m,\u001b[0m\u001b[0mdy\u001b[0m\u001b[0;34m,\u001b[0m\u001b[0my\u001b[0m\u001b[0;34m)\u001b[0m\u001b[0;34m:\u001b[0m\u001b[0;34m\u001b[0m\u001b[0;34m\u001b[0m\u001b[0m\n\u001b[1;32m     21\u001b[0m         \u001b[0md\u001b[0m \u001b[0;34m=\u001b[0m \u001b[0mdy\u001b[0m\u001b[0;34m*\u001b[0m\u001b[0mself\u001b[0m\u001b[0;34m.\u001b[0m\u001b[0mactivation\u001b[0m\u001b[0;34m(\u001b[0m\u001b[0my\u001b[0m\u001b[0;34m,\u001b[0m\u001b[0mderivate\u001b[0m\u001b[0;34m=\u001b[0m\u001b[0;32mTrue\u001b[0m\u001b[0;34m)\u001b[0m\u001b[0;34m\u001b[0m\u001b[0;34m\u001b[0m\u001b[0m\n\u001b[0;32m---> 22\u001b[0;31m         \u001b[0mdz\u001b[0m \u001b[0;34m=\u001b[0m \u001b[0mnp\u001b[0m\u001b[0;34m.\u001b[0m\u001b[0mdot\u001b[0m\u001b[0;34m(\u001b[0m\u001b[0md\u001b[0m\u001b[0;34m,\u001b[0m\u001b[0mself\u001b[0m\u001b[0;34m.\u001b[0m\u001b[0mW\u001b[0m\u001b[0;34m)\u001b[0m\u001b[0;34m\u001b[0m\u001b[0;34m\u001b[0m\u001b[0m\n\u001b[0m\u001b[1;32m     23\u001b[0m         \u001b[0mself\u001b[0m\u001b[0;34m.\u001b[0m\u001b[0mdW\u001b[0m \u001b[0;34m+=\u001b[0m \u001b[0mnp\u001b[0m\u001b[0;34m.\u001b[0m\u001b[0mdot\u001b[0m\u001b[0;34m(\u001b[0m\u001b[0mnp\u001b[0m\u001b[0;34m.\u001b[0m\u001b[0mtranspose\u001b[0m\u001b[0;34m(\u001b[0m\u001b[0md\u001b[0m\u001b[0;34m)\u001b[0m\u001b[0;34m,\u001b[0m\u001b[0mself\u001b[0m\u001b[0;34m.\u001b[0m\u001b[0mz\u001b[0m\u001b[0;34m)\u001b[0m\u001b[0;34m\u001b[0m\u001b[0;34m\u001b[0m\u001b[0m\n\u001b[1;32m     24\u001b[0m         \u001b[0;32mif\u001b[0m \u001b[0mself\u001b[0m\u001b[0;34m.\u001b[0m\u001b[0mbias\u001b[0m\u001b[0;34m:\u001b[0m\u001b[0;34m\u001b[0m\u001b[0;34m\u001b[0m\u001b[0m\n",
      "\u001b[0;31mValueError\u001b[0m: shapes (10,40) and (20,17) not aligned: 40 (dim 1) != 20 (dim 0)"
     ]
    }
   ],
   "source": [
    "input_size = 8\n",
    "output_size = 1\n",
    "hidden_size = 20\n",
    "    \n",
    "batch_size = 10\n",
    "epochs = 4000\n",
    "\n",
    "#Learning for x**2\n",
    "learning_rate = 10**-10\n",
    "\n",
    "#Learning for sqrt()\n",
    "#learning_rate = 2.5*10**-5\n",
    "#learning_rate = 10**-6\n",
    "\n",
    "    \n",
    "Net1 = NN()\n",
    "Net1.add_polynomial_layer(input_size, hidden_size,activation=relu)\n",
    "Net1.add_polynomial_layer(hidden_size, output_size, activation=relu)\n",
    "errors1 = np.zeros(epochs)\n",
    "\n",
    "Net2 = NN()\n",
    "Net2.add_layer(input_size, hidden_size,activation=relu)\n",
    "Net2.add_layer(hidden_size, output_size, activation=relu)\n",
    "errors2 = np.zeros(epochs)\n",
    "\n",
    "for i in range(epochs):\n",
    "    # Generate inputs\n",
    "    x,x_bit,y=prepare_complex_data(batch_size,lambda x:x**2)\n",
    "    # Forward\n",
    "    y_hat_1 = Net1.forward(x_bit)\n",
    "    y_hat_2 = Net2.forward(x_bit)\n",
    "    #Error\n",
    "    e1 = (y-y_hat_1)\n",
    "    e2 = (y-y_hat_2)\n",
    "    errors1[i] = np.sqrt(np.sum(e1**2)/batch_size)\n",
    "    errors2[i] = np.sqrt(np.sum(e2**2)/batch_size)\n",
    "    #backward\n",
    "    Net1.backward(e1, y_hat_1)\n",
    "    Net2.backward(e2, y_hat_2)\n",
    "    Net1.update_weights(learning_rate*1000)\n",
    "    Net2.update_weights(learning_rate*1000)\n",
    "\n",
    "plt.plot(np.log(errors1))\n",
    "plt.plot(np.log(errors2),color='red')\n",
    "plt.show()"
   ]
  },
  {
   "cell_type": "code",
   "execution_count": 10,
   "metadata": {},
   "outputs": [
    {
     "data": {
      "image/png": "[encoded data removed]",
      "text/plain": [
       "<Figure size 432x288 with 1 Axes>"
      ]
     },
     "metadata": {
      "needs_background": "light"
     },
     "output_type": "display_data"
    }
   ],
   "source": [
    "for i in range(8):\n",
    "    plt.hist(Net4.layers[0].W[:,i],alpha=0.2,bins=40)"
   ]
  },
  {
   "cell_type": "code",
   "execution_count": 11,
   "metadata": {},
   "outputs": [
    {
     "data": {
      "text/plain": [
       "(array([1.000e+00, 0.000e+00, 0.000e+00, 2.000e+00, 0.000e+00, 0.000e+00,\n",
       "        4.000e+00, 3.000e+00, 3.000e+00, 6.000e+00, 5.000e+00, 1.600e+01,\n",
       "        1.300e+01, 2.600e+01, 2.000e+01, 2.700e+01, 3.500e+01, 3.600e+01,\n",
       "        4.700e+01, 6.800e+01, 9.200e+01, 8.800e+01, 1.230e+02, 1.540e+02,\n",
       "        1.780e+02, 1.780e+02, 2.500e+02, 2.830e+02, 2.830e+02, 3.460e+02,\n",
       "        4.080e+02, 4.330e+02, 5.000e+02, 5.620e+02, 6.200e+02, 6.900e+02,\n",
       "        7.300e+02, 8.050e+02, 9.080e+02, 9.610e+02, 9.370e+02, 1.081e+03,\n",
       "        1.121e+03, 1.195e+03, 1.190e+03, 1.240e+03, 1.295e+03, 1.315e+03,\n",
       "        1.284e+03, 1.352e+03, 1.277e+03, 1.245e+03, 1.272e+03, 1.195e+03,\n",
       "        1.226e+03, 1.124e+03, 1.071e+03, 1.066e+03, 1.003e+03, 9.430e+02,\n",
       "        8.960e+02, 7.560e+02, 7.610e+02, 6.910e+02, 6.040e+02, 5.700e+02,\n",
       "        4.720e+02, 4.360e+02, 4.060e+02, 3.650e+02, 2.970e+02, 2.230e+02,\n",
       "        2.330e+02, 2.010e+02, 1.870e+02, 1.490e+02, 1.250e+02, 1.080e+02,\n",
       "        7.100e+01, 5.900e+01, 7.100e+01, 3.700e+01, 3.100e+01, 2.100e+01,\n",
       "        2.700e+01, 2.400e+01, 1.000e+01, 1.300e+01, 2.000e+00, 7.000e+00,\n",
       "        2.000e+00, 1.000e+00, 1.000e+00, 2.000e+00, 2.000e+00, 0.000e+00,\n",
       "        1.000e+00, 1.000e+00, 0.000e+00, 1.000e+00]),\n",
       " array([-4.02861676, -3.94717731, -3.86573787, -3.78429842, -3.70285898,\n",
       "        -3.62141953, -3.53998008, -3.45854064, -3.37710119, -3.29566174,\n",
       "        -3.2142223 , -3.13278285, -3.05134341, -2.96990396, -2.88846451,\n",
       "        -2.80702507, -2.72558562, -2.64414618, -2.56270673, -2.48126728,\n",
       "        -2.39982784, -2.31838839, -2.23694894, -2.1555095 , -2.07407005,\n",
       "        -1.99263061, -1.91119116, -1.82975171, -1.74831227, -1.66687282,\n",
       "        -1.58543338, -1.50399393, -1.42255448, -1.34111504, -1.25967559,\n",
       "        -1.17823614, -1.0967967 , -1.01535725, -0.93391781, -0.85247836,\n",
       "        -0.77103891, -0.68959947, -0.60816002, -0.52672058, -0.44528113,\n",
       "        -0.36384168, -0.28240224, -0.20096279, -0.11952334, -0.0380839 ,\n",
       "         0.04335555,  0.12479499,  0.20623444,  0.28767389,  0.36911333,\n",
       "         0.45055278,  0.53199222,  0.61343167,  0.69487112,  0.77631056,\n",
       "         0.85775001,  0.93918946,  1.0206289 ,  1.10206835,  1.18350779,\n",
       "         1.26494724,  1.34638669,  1.42782613,  1.50926558,  1.59070502,\n",
       "         1.67214447,  1.75358392,  1.83502336,  1.91646281,  1.99790226,\n",
       "         2.0793417 ,  2.16078115,  2.24222059,  2.32366004,  2.40509949,\n",
       "         2.48653893,  2.56797838,  2.64941782,  2.73085727,  2.81229672,\n",
       "         2.89373616,  2.97517561,  3.05661506,  3.1380545 ,  3.21949395,\n",
       "         3.30093339,  3.38237284,  3.46381229,  3.54525173,  3.62669118,\n",
       "         3.70813062,  3.78957007,  3.87100952,  3.95244896,  4.03388841,\n",
       "         4.11532786]),\n",
       " <a list of 100 Patch objects>)"
      ]
     },
     "execution_count": 11,
     "metadata": {},
     "output_type": "execute_result"
    },
    {
     "data": {
      "image/png": "[encoded data removed]",
      "text/plain": [
       "<Figure size 432x288 with 1 Axes>"
      ]
     },
     "metadata": {
      "needs_background": "light"
     },
     "output_type": "display_data"
    }
   ],
   "source": [
    "plt.hist(np.reshape(Net4.layers[1].W,-1),alpha=0.1,bins=100)"
   ]
  },
  {
   "cell_type": "code",
   "execution_count": 12,
   "metadata": {},
   "outputs": [
    {
     "data": {
      "text/plain": [
       "(array([  1.,   0.,   0.,   0.,   1.,   1.,   0.,   1.,   0.,   2.,   1.,\n",
       "          2.,   0.,   0.,   1.,   2.,   0.,   1.,   1.,   2.,   2.,   3.,\n",
       "          2.,   7.,   3.,   3.,   4.,   5.,   6.,   6.,   8.,  16.,  21.,\n",
       "         20.,  10.,  24.,  25.,  31.,  24.,  41.,  37.,  35.,  39.,  67.,\n",
       "         51.,  62.,  82.,  73.,  71., 112., 118., 110., 117., 141., 148.,\n",
       "        131., 160., 193., 222., 213., 269., 295., 281., 274., 346., 357.,\n",
       "        360., 335., 348., 404., 433., 443., 443., 484., 463., 523., 539.,\n",
       "        564., 560., 569., 605., 623., 645., 664., 679., 664., 708., 709.,\n",
       "        758., 756., 725., 747., 764., 738., 764., 757., 680., 765., 740.,\n",
       "        720., 725., 724., 677., 664., 656., 669., 649., 580., 554., 565.,\n",
       "        539., 512., 492., 467., 463., 419., 406., 393., 359., 372., 346.,\n",
       "        316., 292., 264., 257., 250., 259., 214., 191., 168., 196., 153.,\n",
       "        151., 160., 102., 106., 109.,  91.,  83.,  62.,  70.,  49.,  43.,\n",
       "         45.,  46.,  31.,  35.,  23.,  32.,  24.,  21.,  19.,  25.,  16.,\n",
       "         12.,   9.,  21.,   9.,   7.,   7.,   9.,   2.,   4.,   6.,   3.,\n",
       "          5.,   0.,   2.,   3.,   1.,   1.,   0.,   3.,   0.,   0.,   0.,\n",
       "          0.,   1.,   0.,   0.,   0.,   0.,   0.,   0.,   0.,   0.,   0.,\n",
       "          0.,   0.,   0.,   0.,   0.,   0.,   0.,   0.,   0.,   0.,   0.,\n",
       "          0.,   1.]),\n",
       " array([-4.32769245, -4.28121776, -4.23474307, -4.18826838, -4.1417937 ,\n",
       "        -4.09531901, -4.04884432, -4.00236963, -3.95589494, -3.90942025,\n",
       "        -3.86294557, -3.81647088, -3.76999619, -3.7235215 , -3.67704681,\n",
       "        -3.63057212, -3.58409744, -3.53762275, -3.49114806, -3.44467337,\n",
       "        -3.39819868, -3.35172399, -3.30524931, -3.25877462, -3.21229993,\n",
       "        -3.16582524, -3.11935055, -3.07287587, -3.02640118, -2.97992649,\n",
       "        -2.9334518 , -2.88697711, -2.84050242, -2.79402774, -2.74755305,\n",
       "        -2.70107836, -2.65460367, -2.60812898, -2.56165429, -2.51517961,\n",
       "        -2.46870492, -2.42223023, -2.37575554, -2.32928085, -2.28280616,\n",
       "        -2.23633148, -2.18985679, -2.1433821 , -2.09690741, -2.05043272,\n",
       "        -2.00395803, -1.95748335, -1.91100866, -1.86453397, -1.81805928,\n",
       "        -1.77158459, -1.7251099 , -1.67863522, -1.63216053, -1.58568584,\n",
       "        -1.53921115, -1.49273646, -1.44626178, -1.39978709, -1.3533124 ,\n",
       "        -1.30683771, -1.26036302, -1.21388833, -1.16741365, -1.12093896,\n",
       "        -1.07446427, -1.02798958, -0.98151489, -0.9350402 , -0.88856552,\n",
       "        -0.84209083, -0.79561614, -0.74914145, -0.70266676, -0.65619207,\n",
       "        -0.60971739, -0.5632427 , -0.51676801, -0.47029332, -0.42381863,\n",
       "        -0.37734394, -0.33086926, -0.28439457, -0.23791988, -0.19144519,\n",
       "        -0.1449705 , -0.09849581, -0.05202113, -0.00554644,  0.04092825,\n",
       "         0.08740294,  0.13387763,  0.18035231,  0.226827  ,  0.27330169,\n",
       "         0.31977638,  0.36625107,  0.41272576,  0.45920044,  0.50567513,\n",
       "         0.55214982,  0.59862451,  0.6450992 ,  0.69157389,  0.73804857,\n",
       "         0.78452326,  0.83099795,  0.87747264,  0.92394733,  0.97042202,\n",
       "         1.0168967 ,  1.06337139,  1.10984608,  1.15632077,  1.20279546,\n",
       "         1.24927015,  1.29574483,  1.34221952,  1.38869421,  1.4351689 ,\n",
       "         1.48164359,  1.52811828,  1.57459296,  1.62106765,  1.66754234,\n",
       "         1.71401703,  1.76049172,  1.8069664 ,  1.85344109,  1.89991578,\n",
       "         1.94639047,  1.99286516,  2.03933985,  2.08581453,  2.13228922,\n",
       "         2.17876391,  2.2252386 ,  2.27171329,  2.31818798,  2.36466266,\n",
       "         2.41113735,  2.45761204,  2.50408673,  2.55056142,  2.59703611,\n",
       "         2.64351079,  2.68998548,  2.73646017,  2.78293486,  2.82940955,\n",
       "         2.87588424,  2.92235892,  2.96883361,  3.0153083 ,  3.06178299,\n",
       "         3.10825768,  3.15473237,  3.20120705,  3.24768174,  3.29415643,\n",
       "         3.34063112,  3.38710581,  3.43358049,  3.48005518,  3.52652987,\n",
       "         3.57300456,  3.61947925,  3.66595394,  3.71242862,  3.75890331,\n",
       "         3.805378  ,  3.85185269,  3.89832738,  3.94480207,  3.99127675,\n",
       "         4.03775144,  4.08422613,  4.13070082,  4.17717551,  4.2236502 ,\n",
       "         4.27012488,  4.31659957,  4.36307426,  4.40954895,  4.45602364,\n",
       "         4.50249833,  4.54897301,  4.5954477 ,  4.64192239,  4.68839708,\n",
       "         4.73487177,  4.78134646,  4.82782114,  4.87429583,  4.92077052,\n",
       "         4.96724521]),\n",
       " <a list of 200 Patch objects>)"
      ]
     },
     "execution_count": 12,
     "metadata": {},
     "output_type": "execute_result"
    },
    {
     "data": {
      "image/png": "[encoded data removed]",
      "text/plain": [
       "<Figure size 432x288 with 1 Axes>"
      ]
     },
     "metadata": {
      "needs_background": "light"
     },
     "output_type": "display_data"
    }
   ],
   "source": [
    "plt.hist(np.reshape(Net4.layers[2].W,-1),alpha=0.1,bins=200)"
   ]
  },
  {
   "cell_type": "markdown",
   "metadata": {},
   "source": [
    "## Test 2"
   ]
  },
  {
   "cell_type": "code",
   "execution_count": 76,
   "metadata": {},
   "outputs": [
    {
     "data": {
      "image/png": "[encoded data removed]",
      "text/plain": [
       "<Figure size 432x288 with 1 Axes>"
      ]
     },
     "metadata": {
      "needs_background": "light"
     },
     "output_type": "display_data"
    }
   ],
   "source": [
    "if run_training == True:\n",
    "    input_size = 3\n",
    "    output_size = 1\n",
    "    hidden_size = 5\n",
    "    \n",
    "    batch_size = 25\n",
    "    epochs = 1000\n",
    "    learning_rate = 10**-3\n",
    "    \n",
    "    s = 2\n",
    "    \n",
    "    Net = NN()\n",
    "    Net.add_layer(input_size, hidden_size)\n",
    "    #Net.add_layer(hidden_size, hidden_size)\n",
    "    Net.add_layer(hidden_size, output_size,activation=sigmoid)\n",
    "    errors = np.zeros(epochs)\n",
    "    \n",
    "    for i in range(epochs):\n",
    "        # Generate inputs\n",
    "        x,y=prepare_data(input_size,batch_size,sigma=s)\n",
    "        # Forward\n",
    "        y_hat = Net.forward(x)\n",
    "        #Error\n",
    "        e = (y-y_hat)\n",
    "        errors[i] = np.sum(e**2)\n",
    "        #backward\n",
    "        Net.backward(e, y_hat)\n",
    "        Net.update_weights(learning_rate)\n",
    "    plt.plot(errors)\n",
    "    plt.show()"
   ]
  },
  {
   "cell_type": "code",
   "execution_count": null,
   "metadata": {},
   "outputs": [],
   "source": []
  },
  {
   "cell_type": "code",
   "execution_count": null,
   "metadata": {},
   "outputs": [],
   "source": []
  },
  {
   "cell_type": "code",
   "execution_count": 65,
   "metadata": {},
   "outputs": [
    {
     "ename": "ValueError",
     "evalue": "Unknown projection '3d'",
     "output_type": "error",
     "traceback": [
      "\u001b[0;31m---------------------------------------------------------------------------\u001b[0m",
      "\u001b[0;31mKeyError\u001b[0m                                  Traceback (most recent call last)",
      "\u001b[0;32m~/anaconda/lib/python3.6/site-packages/matplotlib/projections/__init__.py\u001b[0m in \u001b[0;36mget_projection_class\u001b[0;34m(projection)\u001b[0m\n\u001b[1;32m     57\u001b[0m     \u001b[0;32mtry\u001b[0m\u001b[0;34m:\u001b[0m\u001b[0;34m\u001b[0m\u001b[0;34m\u001b[0m\u001b[0m\n\u001b[0;32m---> 58\u001b[0;31m         \u001b[0;32mreturn\u001b[0m \u001b[0mprojection_registry\u001b[0m\u001b[0;34m.\u001b[0m\u001b[0mget_projection_class\u001b[0m\u001b[0;34m(\u001b[0m\u001b[0mprojection\u001b[0m\u001b[0;34m)\u001b[0m\u001b[0;34m\u001b[0m\u001b[0;34m\u001b[0m\u001b[0m\n\u001b[0m\u001b[1;32m     59\u001b[0m     \u001b[0;32mexcept\u001b[0m \u001b[0mKeyError\u001b[0m\u001b[0;34m:\u001b[0m\u001b[0;34m\u001b[0m\u001b[0;34m\u001b[0m\u001b[0m\n",
      "\u001b[0;32m~/anaconda/lib/python3.6/site-packages/matplotlib/projections/__init__.py\u001b[0m in \u001b[0;36mget_projection_class\u001b[0;34m(self, name)\u001b[0m\n\u001b[1;32m     24\u001b[0m         \"\"\"\n\u001b[0;32m---> 25\u001b[0;31m         \u001b[0;32mreturn\u001b[0m \u001b[0mself\u001b[0m\u001b[0;34m.\u001b[0m\u001b[0m_all_projection_types\u001b[0m\u001b[0;34m[\u001b[0m\u001b[0mname\u001b[0m\u001b[0;34m]\u001b[0m\u001b[0;34m\u001b[0m\u001b[0;34m\u001b[0m\u001b[0m\n\u001b[0m\u001b[1;32m     26\u001b[0m \u001b[0;34m\u001b[0m\u001b[0m\n",
      "\u001b[0;31mKeyError\u001b[0m: '3d'",
      "\nDuring handling of the above exception, another exception occurred:\n",
      "\u001b[0;31mValueError\u001b[0m                                Traceback (most recent call last)",
      "\u001b[0;32m<ipython-input-65-564d5a011473>\u001b[0m in \u001b[0;36m<module>\u001b[0;34m\u001b[0m\n\u001b[1;32m      1\u001b[0m \u001b[0mfig\u001b[0m \u001b[0;34m=\u001b[0m \u001b[0mplt\u001b[0m\u001b[0;34m.\u001b[0m\u001b[0mfigure\u001b[0m\u001b[0;34m(\u001b[0m\u001b[0;34m)\u001b[0m\u001b[0;34m\u001b[0m\u001b[0;34m\u001b[0m\u001b[0m\n\u001b[0;32m----> 2\u001b[0;31m \u001b[0max\u001b[0m \u001b[0;34m=\u001b[0m \u001b[0mplt\u001b[0m\u001b[0;34m.\u001b[0m\u001b[0maxes\u001b[0m\u001b[0;34m(\u001b[0m\u001b[0mprojection\u001b[0m\u001b[0;34m=\u001b[0m\u001b[0;34m'3d'\u001b[0m\u001b[0;34m)\u001b[0m\u001b[0;34m\u001b[0m\u001b[0;34m\u001b[0m\u001b[0m\n\u001b[0m\u001b[1;32m      3\u001b[0m \u001b[0mN_test\u001b[0m \u001b[0;34m=\u001b[0m \u001b[0;36m50\u001b[0m\u001b[0;34m\u001b[0m\u001b[0;34m\u001b[0m\u001b[0m\n\u001b[1;32m      4\u001b[0m \u001b[0mx\u001b[0m\u001b[0;34m,\u001b[0m\u001b[0my\u001b[0m \u001b[0;34m=\u001b[0m  \u001b[0mprepare_data\u001b[0m\u001b[0;34m(\u001b[0m\u001b[0;36m3\u001b[0m\u001b[0;34m,\u001b[0m\u001b[0mN_test\u001b[0m\u001b[0;34m,\u001b[0m\u001b[0msigma\u001b[0m\u001b[0;34m=\u001b[0m\u001b[0;36m1\u001b[0m\u001b[0;34m)\u001b[0m\u001b[0;34m\u001b[0m\u001b[0;34m\u001b[0m\u001b[0m\n\u001b[1;32m      5\u001b[0m \u001b[0my_hat\u001b[0m \u001b[0;34m=\u001b[0m \u001b[0mNet\u001b[0m\u001b[0;34m.\u001b[0m\u001b[0mforward\u001b[0m\u001b[0;34m(\u001b[0m\u001b[0mx\u001b[0m\u001b[0;34m)\u001b[0m\u001b[0;34m\u001b[0m\u001b[0;34m\u001b[0m\u001b[0m\n",
      "\u001b[0;32m~/anaconda/lib/python3.6/site-packages/matplotlib/pyplot.py\u001b[0m in \u001b[0;36maxes\u001b[0;34m(arg, **kwargs)\u001b[0m\n\u001b[1;32m    874\u001b[0m \u001b[0;34m\u001b[0m\u001b[0m\n\u001b[1;32m    875\u001b[0m     \u001b[0;32mif\u001b[0m \u001b[0marg\u001b[0m \u001b[0;32mis\u001b[0m \u001b[0;32mNone\u001b[0m\u001b[0;34m:\u001b[0m\u001b[0;34m\u001b[0m\u001b[0;34m\u001b[0m\u001b[0m\n\u001b[0;32m--> 876\u001b[0;31m         \u001b[0;32mreturn\u001b[0m \u001b[0msubplot\u001b[0m\u001b[0;34m(\u001b[0m\u001b[0;36m111\u001b[0m\u001b[0;34m,\u001b[0m \u001b[0;34m**\u001b[0m\u001b[0mkwargs\u001b[0m\u001b[0;34m)\u001b[0m\u001b[0;34m\u001b[0m\u001b[0;34m\u001b[0m\u001b[0m\n\u001b[0m\u001b[1;32m    877\u001b[0m \u001b[0;34m\u001b[0m\u001b[0m\n\u001b[1;32m    878\u001b[0m     \u001b[0;32mif\u001b[0m \u001b[0misinstance\u001b[0m\u001b[0;34m(\u001b[0m\u001b[0marg\u001b[0m\u001b[0;34m,\u001b[0m \u001b[0mAxes\u001b[0m\u001b[0;34m)\u001b[0m\u001b[0;34m:\u001b[0m\u001b[0;34m\u001b[0m\u001b[0;34m\u001b[0m\u001b[0m\n",
      "\u001b[0;32m~/anaconda/lib/python3.6/site-packages/matplotlib/pyplot.py\u001b[0m in \u001b[0;36msubplot\u001b[0;34m(*args, **kwargs)\u001b[0m\n\u001b[1;32m   1082\u001b[0m \u001b[0;34m\u001b[0m\u001b[0m\n\u001b[1;32m   1083\u001b[0m     \u001b[0mfig\u001b[0m \u001b[0;34m=\u001b[0m \u001b[0mgcf\u001b[0m\u001b[0;34m(\u001b[0m\u001b[0;34m)\u001b[0m\u001b[0;34m\u001b[0m\u001b[0;34m\u001b[0m\u001b[0m\n\u001b[0;32m-> 1084\u001b[0;31m     \u001b[0ma\u001b[0m \u001b[0;34m=\u001b[0m \u001b[0mfig\u001b[0m\u001b[0;34m.\u001b[0m\u001b[0madd_subplot\u001b[0m\u001b[0;34m(\u001b[0m\u001b[0;34m*\u001b[0m\u001b[0margs\u001b[0m\u001b[0;34m,\u001b[0m \u001b[0;34m**\u001b[0m\u001b[0mkwargs\u001b[0m\u001b[0;34m)\u001b[0m\u001b[0;34m\u001b[0m\u001b[0;34m\u001b[0m\u001b[0m\n\u001b[0m\u001b[1;32m   1085\u001b[0m     \u001b[0mbbox\u001b[0m \u001b[0;34m=\u001b[0m \u001b[0ma\u001b[0m\u001b[0;34m.\u001b[0m\u001b[0mbbox\u001b[0m\u001b[0;34m\u001b[0m\u001b[0;34m\u001b[0m\u001b[0m\n\u001b[1;32m   1086\u001b[0m     \u001b[0mbyebye\u001b[0m \u001b[0;34m=\u001b[0m \u001b[0;34m[\u001b[0m\u001b[0;34m]\u001b[0m\u001b[0;34m\u001b[0m\u001b[0;34m\u001b[0m\u001b[0m\n",
      "\u001b[0;32m~/anaconda/lib/python3.6/site-packages/matplotlib/figure.py\u001b[0m in \u001b[0;36madd_subplot\u001b[0;34m(self, *args, **kwargs)\u001b[0m\n\u001b[1;32m   1347\u001b[0m         \u001b[0;32melse\u001b[0m\u001b[0;34m:\u001b[0m\u001b[0;34m\u001b[0m\u001b[0;34m\u001b[0m\u001b[0m\n\u001b[1;32m   1348\u001b[0m             projection_class, kwargs, key = process_projection_requirements(\n\u001b[0;32m-> 1349\u001b[0;31m                 self, *args, **kwargs)\n\u001b[0m\u001b[1;32m   1350\u001b[0m \u001b[0;34m\u001b[0m\u001b[0m\n\u001b[1;32m   1351\u001b[0m             \u001b[0;31m# try to find the axes with this key in the stack\u001b[0m\u001b[0;34m\u001b[0m\u001b[0;34m\u001b[0m\u001b[0;34m\u001b[0m\u001b[0m\n",
      "\u001b[0;32m~/anaconda/lib/python3.6/site-packages/matplotlib/projections/__init__.py\u001b[0m in \u001b[0;36mprocess_projection_requirements\u001b[0;34m(figure, polar, projection, *args, **kwargs)\u001b[0m\n\u001b[1;32m     79\u001b[0m \u001b[0;34m\u001b[0m\u001b[0m\n\u001b[1;32m     80\u001b[0m     \u001b[0;32mif\u001b[0m \u001b[0misinstance\u001b[0m\u001b[0;34m(\u001b[0m\u001b[0mprojection\u001b[0m\u001b[0;34m,\u001b[0m \u001b[0mstr\u001b[0m\u001b[0;34m)\u001b[0m \u001b[0;32mor\u001b[0m \u001b[0mprojection\u001b[0m \u001b[0;32mis\u001b[0m \u001b[0;32mNone\u001b[0m\u001b[0;34m:\u001b[0m\u001b[0;34m\u001b[0m\u001b[0;34m\u001b[0m\u001b[0m\n\u001b[0;32m---> 81\u001b[0;31m         \u001b[0mprojection_class\u001b[0m \u001b[0;34m=\u001b[0m \u001b[0mget_projection_class\u001b[0m\u001b[0;34m(\u001b[0m\u001b[0mprojection\u001b[0m\u001b[0;34m)\u001b[0m\u001b[0;34m\u001b[0m\u001b[0;34m\u001b[0m\u001b[0m\n\u001b[0m\u001b[1;32m     82\u001b[0m     \u001b[0;32melif\u001b[0m \u001b[0mhasattr\u001b[0m\u001b[0;34m(\u001b[0m\u001b[0mprojection\u001b[0m\u001b[0;34m,\u001b[0m \u001b[0;34m'_as_mpl_axes'\u001b[0m\u001b[0;34m)\u001b[0m\u001b[0;34m:\u001b[0m\u001b[0;34m\u001b[0m\u001b[0;34m\u001b[0m\u001b[0m\n\u001b[1;32m     83\u001b[0m         \u001b[0mprojection_class\u001b[0m\u001b[0;34m,\u001b[0m \u001b[0mextra_kwargs\u001b[0m \u001b[0;34m=\u001b[0m \u001b[0mprojection\u001b[0m\u001b[0;34m.\u001b[0m\u001b[0m_as_mpl_axes\u001b[0m\u001b[0;34m(\u001b[0m\u001b[0;34m)\u001b[0m\u001b[0;34m\u001b[0m\u001b[0;34m\u001b[0m\u001b[0m\n",
      "\u001b[0;32m~/anaconda/lib/python3.6/site-packages/matplotlib/projections/__init__.py\u001b[0m in \u001b[0;36mget_projection_class\u001b[0;34m(projection)\u001b[0m\n\u001b[1;32m     58\u001b[0m         \u001b[0;32mreturn\u001b[0m \u001b[0mprojection_registry\u001b[0m\u001b[0;34m.\u001b[0m\u001b[0mget_projection_class\u001b[0m\u001b[0;34m(\u001b[0m\u001b[0mprojection\u001b[0m\u001b[0;34m)\u001b[0m\u001b[0;34m\u001b[0m\u001b[0;34m\u001b[0m\u001b[0m\n\u001b[1;32m     59\u001b[0m     \u001b[0;32mexcept\u001b[0m \u001b[0mKeyError\u001b[0m\u001b[0;34m:\u001b[0m\u001b[0;34m\u001b[0m\u001b[0;34m\u001b[0m\u001b[0m\n\u001b[0;32m---> 60\u001b[0;31m         \u001b[0;32mraise\u001b[0m \u001b[0mValueError\u001b[0m\u001b[0;34m(\u001b[0m\u001b[0;34m\"Unknown projection %r\"\u001b[0m \u001b[0;34m%\u001b[0m \u001b[0mprojection\u001b[0m\u001b[0;34m)\u001b[0m\u001b[0;34m\u001b[0m\u001b[0;34m\u001b[0m\u001b[0m\n\u001b[0m\u001b[1;32m     61\u001b[0m \u001b[0;34m\u001b[0m\u001b[0m\n\u001b[1;32m     62\u001b[0m \u001b[0;34m\u001b[0m\u001b[0m\n",
      "\u001b[0;31mValueError\u001b[0m: Unknown projection '3d'"
     ]
    },
    {
     "data": {
      "text/plain": [
       "<Figure size 432x288 with 0 Axes>"
      ]
     },
     "metadata": {},
     "output_type": "display_data"
    }
   ],
   "source": [
    "fig = plt.figure()\n",
    "ax = plt.axes(projection='3d')\n",
    "N_test = 50\n",
    "x,y =  prepare_data(3,N_test,sigma=1)\n",
    "y_hat = Net.forward(x)\n",
    "y_hat = (y_hat+0.5).astype(int)\n",
    "#for i in range(N_test*2):\n",
    "#    print(\"real {} and pred {}\".format(y[i][0],y_hat[i][0]))\n",
    "\n",
    "x_true=x[y[:,0]-y_hat[:,0]==0]\n",
    "x_false=x[y[:,0]-y_hat[:,0]!=0]\n",
    "y_true=y[y==y_hat]\n",
    "y_false=y[y!=y_hat]\n",
    "ax.scatter3D(x_true[:,0],x_true[:,1],x_true[:,2], cmap='Greens');\n",
    "ax.scatter3D(x_false[:,0],x_false[:,1],x_false[:,2], cmap='Reds');"
   ]
  },
  {
   "cell_type": "code",
   "execution_count": null,
   "metadata": {},
   "outputs": [],
   "source": []
  },
  {
   "cell_type": "code",
   "execution_count": 71,
   "metadata": {},
   "outputs": [
    {
     "name": "stdout",
     "output_type": "stream",
     "text": [
      "[5, 6, 89]\n"
     ]
    }
   ],
   "source": []
  },
  {
   "cell_type": "code",
   "execution_count": null,
   "metadata": {},
   "outputs": [],
   "source": []
  }
 ],
 "metadata": {
  "kernelspec": {
   "display_name": "Python 3 (ipykernel)",
   "language": "python",
   "name": "python3"
  },
  "language_info": {
   "codemirror_mode": {
    "name": "ipython",
    "version": 3
   },
   "file_extension": ".py",
   "mimetype": "text/x-python",
   "name": "python",
   "nbconvert_exporter": "python",
   "pygments_lexer": "ipython3",
   "version": "3.9.7"
  }
 },
 "nbformat": 4,
 "nbformat_minor": 2
}
