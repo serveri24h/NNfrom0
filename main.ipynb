{
 "cells": [
  {
   "cell_type": "markdown",
   "metadata": {},
   "source": [
    "# Fully Connected Artificial Neural Networks from scratch\n",
    "\n",
    "#### This notebook implements neural network model with fully connected layers using only numpy\n",
    "#### ---------------------------------------------------------------------------------------------------------------\n",
    "\n",
    "This notebook demonstrates how fully connected neural network can be constructed without libraries such as PyTorch, Keras or Tensorflow which carry out most of the computations under the hood. This implementation is my on and I originally wrote to understand network models better while learning deep learning from various resources. Please note that the this neural network model is not ment to use with large dataset."
   ]
  },
  {
   "cell_type": "markdown",
   "metadata": {},
   "source": [
    "## Dependencies"
   ]
  },
  {
   "cell_type": "code",
   "execution_count": 1,
   "metadata": {},
   "outputs": [],
   "source": [
    "import numpy as np\n",
    "from matplotlib import pyplot as plt"
   ]
  },
  {
   "cell_type": "markdown",
   "metadata": {},
   "source": [
    "## Global Variables"
   ]
  },
  {
   "cell_type": "code",
   "execution_count": 2,
   "metadata": {},
   "outputs": [],
   "source": [
    "run_training=True"
   ]
  },
  {
   "cell_type": "markdown",
   "metadata": {},
   "source": [
    "## Activation funcitions\n",
    "\n",
    "Below are most implementations for the most commonly used activation functios:\n",
    "* Sigmoid\n",
    "* ReLU\n",
    "* ( no activation )"
   ]
  },
  {
   "cell_type": "code",
   "execution_count": 3,
   "metadata": {},
   "outputs": [],
   "source": [
    "def return_max(a):\n",
    "    a = np.argmax(a, axis=1)\n",
    "    b = np.zeros((a.size, 3))\n",
    "    b[np.arange(a.size),a] = 1\n",
    "    return b"
   ]
  },
  {
   "cell_type": "markdown",
   "metadata": {},
   "source": [
    "## Fully connected layer\n",
    "\n",
    "#### Implementation of the fully connected layer used in the model with methods for forward and backward computations \n",
    "\n",
    "Each layer has\n",
    "* Wieght matrix, which includes the bias term if used. Weights will determine the output of the layer.\n",
    "* Activation function, which will be set no activation by default. Activation is applied after to provide nonlinearity.\n",
    "* Gradient matrix of the error with respect to weights (initialized to zero matrix)\n",
    "\n"
   ]
  },
  {
   "cell_type": "code",
   "execution_count": 4,
   "metadata": {},
   "outputs": [],
   "source": [
    "class layer:\n",
    "    def __init__(self,input_size,output_size,bias=True,activation=no_activation):\n",
    "        \n",
    "        # ---- Activation Function ----  \n",
    "        self.activation = activation\n",
    "        \n",
    "        # ---- Bias ----\n",
    "        self.bias = bias      \n",
    "        if bias: input_size+=1\n",
    "        \n",
    "        # ---- Weights ----\n",
    "        self.W = np.random.normal(0,1,(output_size,input_size))\n",
    "        \n",
    "        # ---- The gradient of the error with respect to weights ----\n",
    "        self.dW = np.zeros((output_size,input_size))\n",
    "    \n",
    "    def forward(self,x):\n",
    "        \n",
    "        # if bias term is used, constant 1 is added to each input to represent bias\n",
    "        if self.bias == True: x =  np.concatenate((x,np.ones((len(x),1))),axis=-1)\n",
    "        \n",
    "        # Input is saved for backward computations\n",
    "        self.z = x\n",
    "        \n",
    "        # (W^T)X\n",
    "        x = np.dot(x,np.transpose(self.W))\n",
    "        \n",
    "        # The activation is applied\n",
    "        x = self.activation(x)\n",
    "        \n",
    "        return x\n",
    "    \n",
    "    def backward(self,dy,y):\n",
    "        d = dy*self.activation(y,derivate=True)\n",
    "        dz = np.dot(d,self.W)\n",
    "        self.dW += np.dot(np.transpose(d),self.z)\n",
    "        if self.bias:\n",
    "            return dz[:,:-1],self.z[:,:-1]\n",
    "        return dz,self.z\n",
    "    \n",
    "    def update_weights(self,lr):\n",
    "        self.W -= lr*self.dW\n",
    "        self.dW = np.zeros(np.shape(self.W))"
   ]
  },
  {
   "cell_type": "markdown",
   "metadata": {},
   "source": [
    "## Neural Network model with fully connected layers"
   ]
  },
  {
   "cell_type": "code",
   "execution_count": 5,
   "metadata": {},
   "outputs": [],
   "source": [
    "class NN():\n",
    "    def __init__(self):\n",
    "        self.layers=[]\n",
    "        self.N_layers = 0\n",
    "    \n",
    "    def forward(self,x):\n",
    "        for n in range(self.N_layers):\n",
    "            x = self.layers[n].forward(x)\n",
    "        return x\n",
    "    \n",
    "    def backward(self,e,y):\n",
    "        dy=-2*e\n",
    "        for n in range(self.N_layers):\n",
    "            dy,y = self.layers[-(n+1)].backward(dy,y)\n",
    "            \n",
    "    def update_weights(self,lr):\n",
    "        for n in range(self.N_layers):\n",
    "            self.layers[n].update_weights(lr)\n",
    "        \n",
    "    def add_layer(self,input_size,output_size,activation=no_activation,bias=True):\n",
    "        try:\n",
    "            new_layer = layer(input_size, output_size, activation=activation,bias=bias)\n",
    "            self.layers.append(new_layer)\n",
    "            self.N_layers+=1\n",
    "        except:\n",
    "            print(\"FAILURE\")"
   ]
  },
  {
   "cell_type": "markdown",
   "metadata": {},
   "source": [
    "## Test 1 y = x^2\n"
   ]
  },
  {
   "cell_type": "code",
   "execution_count": 7,
   "metadata": {},
   "outputs": [
    {
     "data": {
      "image/png": "[encoded data removed]",
      "text/plain": [
       "<Figure size 432x288 with 1 Axes>"
      ]
     },
     "metadata": {
      "needs_background": "light"
     },
     "output_type": "display_data"
    }
   ],
   "source": [
    "input_size = 8\n",
    "output_size = 1\n",
    "hidden_size = 200\n",
    "    \n",
    "batch_size = 50\n",
    "epochs = 4000\n",
    "\n",
    "#Learning for x**2\n",
    "learning_rate = 10**-8/100\n",
    "\n",
    "#Learning for sqrt()\n",
    "#learning_rate = 2.5*10**-5\n",
    "#learning_rate = 10**-6\n",
    "\n",
    "    \n",
    "Net1 = NN()\n",
    "Net1.add_layer(input_size, hidden_size,activation=relu)\n",
    "Net1.add_layer(hidden_size, hidden_size,activation=relu)\n",
    "Net1.add_layer(hidden_size, output_size, activation=relu)\n",
    "errors1 = np.zeros(epochs)\n",
    "\n",
    "Net2 = NN()\n",
    "Net2.add_layer(input_size, hidden_size,activation=relu)\n",
    "Net2.add_layer(hidden_size, output_size, activation=relu)\n",
    "errors2 = np.zeros(epochs)\n",
    "\n",
    "Net3 = NN()\n",
    "Net3.add_layer(input_size, hidden_size,activation=relu)\n",
    "Net3.add_layer(hidden_size, hidden_size,activation=sigmoid)\n",
    "Net3.add_layer(hidden_size, hidden_size,activation=relu)\n",
    "Net3.add_layer(hidden_size, output_size, activation=relu)\n",
    "errors3 = np.zeros(epochs)\n",
    "\n",
    "Net4 = NN()\n",
    "Net4.add_layer(input_size, hidden_size,activation=relu)\n",
    "Net4.add_layer(hidden_size, hidden_size,activation=sigmoid)\n",
    "Net4.add_layer(hidden_size, hidden_size,activation=relu)\n",
    "Net4.add_layer(hidden_size, hidden_size,activation=relu)\n",
    "Net4.add_layer(hidden_size, output_size, activation=relu)\n",
    "errors4 = np.zeros(epochs)\n",
    "\n",
    "for i in range(epochs):\n",
    "    \n",
    "    # Generate inputs\n",
    "    x,x_bit,y=prepare_byte_data(batch_size)\n",
    "    \n",
    "    # Forward\n",
    "    y_hat_1 = Net1.forward(x_bit)\n",
    "    y_hat_2 = Net2.forward(x_bit)\n",
    "    y_hat_3 = Net3.forward(x_bit)\n",
    "    y_hat_4 = Net4.forward(x_bit)\n",
    "    \n",
    "    #Error\n",
    "    e1 = (y-y_hat_1)\n",
    "    e2 = (y-y_hat_2)\n",
    "    e3 = (y-y_hat_3)\n",
    "    e4 = (y-y_hat_4)\n",
    "    \n",
    "    errors1[i] = np.sqrt(np.sum(e1**2)/batch_size)\n",
    "    errors2[i] = np.sqrt(np.sum(e2**2)/batch_size)\n",
    "    errors3[i] = np.sqrt(np.sum(e3**2)/batch_size)\n",
    "    errors4[i] = np.sqrt(np.sum(e4**2)/batch_size)\n",
    "    \n",
    "    #backward\n",
    "    Net1.backward(e1, y_hat_1)\n",
    "    Net2.backward(e2, y_hat_2)\n",
    "    Net3.backward(e3, y_hat_3)\n",
    "    Net4.backward(e4, y_hat_4)\n",
    "    \n",
    "    Net1.update_weights(learning_rate*50)\n",
    "    Net2.update_weights(learning_rate*1000)\n",
    "    Net3.update_weights(learning_rate*50)\n",
    "    Net4.update_weights(learning_rate*3)\n",
    "\n",
    "plt.plot(np.log(errors1))\n",
    "plt.plot(np.log(errors2),color='red')\n",
    "plt.plot(np.log(errors3),color='green')\n",
    "plt.plot(np.log(errors4),color='yellow')\n",
    "plt.show()"
   ]
  },
  {
   "cell_type": "code",
   "execution_count": 8,
   "metadata": {},
   "outputs": [
    {
     "name": "stdout",
     "output_type": "stream",
     "text": [
      "#1: true = 22500, guess1 = 22485.23, guess2 = 2.3e+04, guess3 = 2.2e+04, guess4 = 2.3e+04\n",
      "#2: true = 14641, guess1 = 14650.29, guess2 = 1.5e+04, guess3 = 1.5e+04, guess4 = 1.5e+04\n",
      "#3: true = 19044, guess1 = 18999.70, guess2 = 1.9e+04, guess3 = 1.9e+04, guess4 = 1.9e+04\n",
      "#4: true = 1521, guess1 = 1547.43, guess2 = 1.5e+03, guess3 = 1.5e+03, guess4 = 1.5e+03\n",
      "#5: true = 58564, guess1 = 58562.79, guess2 = 5.8e+04, guess3 = 5.9e+04, guess4 = 5.9e+04\n",
      "#6: true = 9801, guess1 = 9774.22, guess2 = 9.7e+03, guess3 = 9.8e+03, guess4 = 9.8e+03\n",
      "#7: true = 64516, guess1 = 64334.62, guess2 = 6.4e+04, guess3 = 6.4e+04, guess4 = 6.4e+04\n",
      "#8: true = 50625, guess1 = 50699.20, guess2 = 5.1e+04, guess3 = 5.1e+04, guess4 = 5.1e+04\n",
      "#9: true = 5329, guess1 = 5299.69, guess2 = 5.3e+03, guess3 = 5.3e+03, guess4 = 5.3e+03\n",
      "#10: true = 19881, guess1 = 19896.05, guess2 =  2e+04, guess3 =  2e+04, guess4 =  2e+04\n"
     ]
    }
   ],
   "source": [
    "x,x_bit,y=prepare_complex_data(10,lambda x:x**2)\n",
    "y_hat_1 = Net1.forward(x_bit)\n",
    "y_hat_2 = Net2.forward(x_bit)\n",
    "y_hat_3 = Net3.forward(x_bit)\n",
    "y_hat_4 = Net4.forward(x_bit)\n",
    "for i in range(0,10):\n",
    "    print(\"#{}: true = {}, guess1 = {:6.2f}, guess2 = {:6.2}, guess3 = {:6.2}, guess4 = {:6.2}\".format(\n",
    "        i+1,y[i][0],y_hat_1[i][0],y_hat_2[i][0],y_hat_3[i][0],y_hat_4[i][0]))"
   ]
  },
  {
   "cell_type": "markdown",
   "metadata": {},
   "source": [
    "## Test 2: y=sqrt(x)"
   ]
  },
  {
   "cell_type": "code",
   "execution_count": 9,
   "metadata": {},
   "outputs": [
    {
     "data": {
      "image/png": "[encoded data removed]",
      "text/plain": [
       "<Figure size 432x288 with 1 Axes>"
      ]
     },
     "metadata": {
      "needs_background": "light"
     },
     "output_type": "display_data"
    }
   ],
   "source": [
    "input_size = 8\n",
    "output_size = 1\n",
    "hidden_size = 200\n",
    "    \n",
    "batch_size = 50\n",
    "epochs = 1000\n",
    "\n",
    "#Learning for x**2\n",
    "learning_rate = 10**-8/100\n",
    "\n",
    "#Learning for sqrt()\n",
    "#learning_rate = 2.5*10**-5\n",
    "#learning_rate = 10**-6\n",
    "\n",
    "    \n",
    "Net1 = NN()\n",
    "Net1.add_layer(input_size, hidden_size,activation=relu)\n",
    "Net1.add_layer(hidden_size, hidden_size,activation=relu)\n",
    "Net1.add_layer(hidden_size, output_size, activation=relu)\n",
    "errors1 = np.zeros(epochs)\n",
    "\n",
    "Net2 = NN()\n",
    "Net2.add_layer(input_size, hidden_size,activation=relu)\n",
    "Net2.add_layer(hidden_size, output_size, activation=relu)\n",
    "errors2 = np.zeros(epochs)\n",
    "\n",
    "Net3 = NN()\n",
    "Net3.add_layer(input_size, hidden_size)#,activation=relu)\n",
    "Net3.add_layer(hidden_size, hidden_size)#,activation=sigmoid)\n",
    "Net3.add_layer(hidden_size, hidden_size)#,activation=relu)\n",
    "Net3.add_layer(hidden_size, output_size, activation=relu)\n",
    "errors3 = np.zeros(epochs)\n",
    "\n",
    "Net4 = NN()\n",
    "Net4.add_layer(input_size, hidden_size,activation=relu)\n",
    "Net4.add_layer(hidden_size, hidden_size,activation=relu)\n",
    "Net4.add_layer(hidden_size, hidden_size,activation=relu)\n",
    "Net4.add_layer(hidden_size, hidden_size,activation=relu)\n",
    "Net4.add_layer(hidden_size, output_size, activation=relu)\n",
    "errors4 = np.zeros(epochs)\n",
    "\n",
    "for i in range(epochs):\n",
    "    # Generate inputs\n",
    "    x,x_bit,y=prepare_complex_data(batch_size,lambda x:np.sqrt(x))\n",
    "    # Forward\n",
    "    y_hat_1 = Net1.forward(x_bit)\n",
    "    y_hat_2 = Net2.forward(x_bit)\n",
    "    y_hat_3 = Net3.forward(x_bit)\n",
    "    y_hat_4 = Net4.forward(x_bit)\n",
    "    #Error\n",
    "    e1 = (y-y_hat_1)\n",
    "    e2 = (y-y_hat_2)\n",
    "    e3 = (y-y_hat_3)\n",
    "    e4 = (y-y_hat_4)\n",
    "    errors1[i] = np.sqrt(np.sum(e1**2)/batch_size)\n",
    "    errors2[i] = np.sqrt(np.sum(e2**2)/batch_size)\n",
    "    errors3[i] = np.sqrt(np.sum(e3**2)/batch_size)\n",
    "    errors4[i] = np.sqrt(np.sum(e4**2)/batch_size)\n",
    "    #backward\n",
    "    Net1.backward(e1, y_hat_1)\n",
    "    Net2.backward(e2, y_hat_2)\n",
    "    Net3.backward(e3, y_hat_3)\n",
    "    Net4.backward(e4, y_hat_4)\n",
    "    Net1.update_weights(learning_rate*1000)\n",
    "    Net2.update_weights(learning_rate*100000)\n",
    "    Net3.update_weights(learning_rate*50)\n",
    "    Net4.update_weights(learning_rate)\n",
    "\n",
    "plt.plot(np.log(errors1))\n",
    "plt.plot(np.log(errors2),color='red')\n",
    "plt.plot(np.log(errors3),color='green')\n",
    "plt.plot(np.log(errors4),color='yellow')\n",
    "plt.show()"
   ]
  },
  {
   "cell_type": "markdown",
   "metadata": {},
   "source": [
    "## TEST 3: Polynomial layers"
   ]
  },
  {
   "cell_type": "code",
   "execution_count": 10,
   "metadata": {},
   "outputs": [
    {
     "data": {
      "image/png": "[encoded data removed]",
      "text/plain": [
       "<Figure size 432x288 with 1 Axes>"
      ]
     },
     "metadata": {
      "needs_background": "light"
     },
     "output_type": "display_data"
    }
   ],
   "source": [
    "for i in range(8):\n",
    "    plt.hist(Net4.layers[0].W[:,i],alpha=0.2,bins=40)"
   ]
  },
  {
   "cell_type": "code",
   "execution_count": 11,
   "metadata": {},
   "outputs": [
    {
     "data": {
      "text/plain": [
       "(array([1.000e+00, 1.000e+00, 1.000e+00, 4.000e+00, 0.000e+00, 6.000e+00,\n",
       "        8.000e+00, 1.000e+01, 7.000e+00, 1.100e+01, 1.200e+01, 2.100e+01,\n",
       "        2.800e+01, 2.800e+01, 3.300e+01, 4.400e+01, 4.200e+01, 6.300e+01,\n",
       "        7.000e+01, 7.400e+01, 1.050e+02, 9.000e+01, 1.370e+02, 1.590e+02,\n",
       "        1.860e+02, 2.100e+02, 2.540e+02, 2.870e+02, 3.450e+02, 3.770e+02,\n",
       "        3.800e+02, 4.960e+02, 5.370e+02, 5.920e+02, 6.060e+02, 6.870e+02,\n",
       "        7.530e+02, 8.180e+02, 8.630e+02, 9.870e+02, 1.006e+03, 1.029e+03,\n",
       "        1.107e+03, 1.077e+03, 1.158e+03, 1.191e+03, 1.202e+03, 1.254e+03,\n",
       "        1.250e+03, 1.259e+03, 1.203e+03, 1.263e+03, 1.169e+03, 1.219e+03,\n",
       "        1.132e+03, 1.155e+03, 1.062e+03, 1.022e+03, 9.540e+02, 9.330e+02,\n",
       "        9.240e+02, 8.050e+02, 7.150e+02, 7.440e+02, 6.170e+02, 5.800e+02,\n",
       "        5.200e+02, 4.650e+02, 3.870e+02, 3.360e+02, 3.090e+02, 2.840e+02,\n",
       "        2.150e+02, 2.100e+02, 1.900e+02, 1.560e+02, 1.280e+02, 1.100e+02,\n",
       "        8.800e+01, 8.400e+01, 6.600e+01, 5.900e+01, 5.500e+01, 3.500e+01,\n",
       "        2.500e+01, 3.100e+01, 2.000e+01, 1.400e+01, 1.400e+01, 9.000e+00,\n",
       "        6.000e+00, 2.000e+00, 5.000e+00, 3.000e+00, 2.000e+00, 2.000e+00,\n",
       "        3.000e+00, 2.000e+00, 1.000e+00, 1.000e+00]),\n",
       " array([-3.84987493, -3.77181055, -3.69374617, -3.61568179, -3.53761741,\n",
       "        -3.45955303, -3.38148865, -3.30342427, -3.22535989, -3.14729551,\n",
       "        -3.06923113, -2.99116675, -2.91310237, -2.83503799, -2.75697361,\n",
       "        -2.67890923, -2.60084485, -2.52278047, -2.44471609, -2.36665171,\n",
       "        -2.28858733, -2.21052295, -2.13245857, -2.05439419, -1.97632981,\n",
       "        -1.89826543, -1.82020105, -1.74213667, -1.66407229, -1.58600791,\n",
       "        -1.50794353, -1.42987915, -1.35181477, -1.27375039, -1.19568601,\n",
       "        -1.11762163, -1.03955725, -0.96149287, -0.88342849, -0.80536411,\n",
       "        -0.72729973, -0.64923535, -0.57117097, -0.49310659, -0.41504221,\n",
       "        -0.33697783, -0.25891344, -0.18084906, -0.10278468, -0.0247203 ,\n",
       "         0.05334408,  0.13140846,  0.20947284,  0.28753722,  0.3656016 ,\n",
       "         0.44366598,  0.52173036,  0.59979474,  0.67785912,  0.7559235 ,\n",
       "         0.83398788,  0.91205226,  0.99011664,  1.06818102,  1.1462454 ,\n",
       "         1.22430978,  1.30237416,  1.38043854,  1.45850292,  1.5365673 ,\n",
       "         1.61463168,  1.69269606,  1.77076044,  1.84882482,  1.9268892 ,\n",
       "         2.00495358,  2.08301796,  2.16108234,  2.23914672,  2.3172111 ,\n",
       "         2.39527548,  2.47333986,  2.55140424,  2.62946862,  2.707533  ,\n",
       "         2.78559738,  2.86366176,  2.94172614,  3.01979052,  3.0978549 ,\n",
       "         3.17591928,  3.25398366,  3.33204804,  3.41011242,  3.4881768 ,\n",
       "         3.56624118,  3.64430556,  3.72236994,  3.80043432,  3.8784987 ,\n",
       "         3.95656308]),\n",
       " <BarContainer object of 100 artists>)"
      ]
     },
     "execution_count": 11,
     "metadata": {},
     "output_type": "execute_result"
    },
    {
     "data": {
      "image/png": "[encoded data removed]",
      "text/plain": [
       "<Figure size 432x288 with 1 Axes>"
      ]
     },
     "metadata": {
      "needs_background": "light"
     },
     "output_type": "display_data"
    }
   ],
   "source": [
    "plt.hist(np.reshape(Net4.layers[1].W,-1),alpha=0.1,bins=100)"
   ]
  },
  {
   "cell_type": "code",
   "execution_count": 12,
   "metadata": {},
   "outputs": [
    {
     "data": {
      "text/plain": [
       "(array([  1.,   0.,   0.,   1.,   0.,   0.,   0.,   0.,   0.,   0.,   0.,\n",
       "          0.,   0.,   0.,   1.,   0.,   1.,   0.,   1.,   0.,   3.,   2.,\n",
       "          1.,   4.,   1.,   3.,   4.,   4.,   9.,   1.,   3.,   5.,   5.,\n",
       "          6.,   8.,  10.,   5.,  18.,  15.,  12.,  10.,  19.,  19.,  26.,\n",
       "          9.,  34.,  30.,  36.,  39.,  32.,  55.,  57.,  58.,  66.,  69.,\n",
       "         77.,  78.,  74., 110., 112., 108., 113., 125., 150., 177., 170.,\n",
       "        173., 200., 225., 217., 228., 258., 279., 263., 308., 319., 328.,\n",
       "        335., 384., 373., 394., 400., 431., 441., 443., 498., 509., 508.,\n",
       "        572., 520., 591., 592., 576., 614., 595., 611., 640., 632., 608.,\n",
       "        656., 634., 712., 684., 657., 692., 661., 685., 634., 649., 694.,\n",
       "        620., 648., 557., 629., 624., 605., 624., 615., 558., 547., 582.,\n",
       "        519., 516., 512., 474., 470., 413., 419., 439., 385., 385., 366.,\n",
       "        353., 325., 336., 296., 320., 276., 268., 254., 219., 190., 185.,\n",
       "        179., 183., 177., 174., 132., 111., 118., 120., 108.,  89.,  68.,\n",
       "         63.,  73.,  63.,  71.,  62.,  43.,  55.,  31.,  34.,  34.,  43.,\n",
       "         28.,  25.,  19.,  21.,  17.,  12.,  16.,  10.,  11.,   7.,  11.,\n",
       "         11.,   5.,   5.,   5.,   3.,   4.,   5.,   5.,   1.,   2.,   1.,\n",
       "          1.,   2.,   4.,   1.,   0.,   2.,   2.,   1.,   0.,   0.,   0.,\n",
       "          1.,   2.]),\n",
       " array([-4.41096026, -4.36905735, -4.32715444, -4.28525153, -4.24334862,\n",
       "        -4.20144571, -4.15954281, -4.1176399 , -4.07573699, -4.03383408,\n",
       "        -3.99193117, -3.95002826, -3.90812535, -3.86622244, -3.82431953,\n",
       "        -3.78241662, -3.74051371, -3.6986108 , -3.65670789, -3.61480498,\n",
       "        -3.57290207, -3.53099916, -3.48909625, -3.44719335, -3.40529044,\n",
       "        -3.36338753, -3.32148462, -3.27958171, -3.2376788 , -3.19577589,\n",
       "        -3.15387298, -3.11197007, -3.07006716, -3.02816425, -2.98626134,\n",
       "        -2.94435843, -2.90245552, -2.86055261, -2.8186497 , -2.77674679,\n",
       "        -2.73484388, -2.69294098, -2.65103807, -2.60913516, -2.56723225,\n",
       "        -2.52532934, -2.48342643, -2.44152352, -2.39962061, -2.3577177 ,\n",
       "        -2.31581479, -2.27391188, -2.23200897, -2.19010606, -2.14820315,\n",
       "        -2.10630024, -2.06439733, -2.02249442, -1.98059151, -1.93868861,\n",
       "        -1.8967857 , -1.85488279, -1.81297988, -1.77107697, -1.72917406,\n",
       "        -1.68727115, -1.64536824, -1.60346533, -1.56156242, -1.51965951,\n",
       "        -1.4777566 , -1.43585369, -1.39395078, -1.35204787, -1.31014496,\n",
       "        -1.26824205, -1.22633915, -1.18443624, -1.14253333, -1.10063042,\n",
       "        -1.05872751, -1.0168246 , -0.97492169, -0.93301878, -0.89111587,\n",
       "        -0.84921296, -0.80731005, -0.76540714, -0.72350423, -0.68160132,\n",
       "        -0.63969841, -0.5977955 , -0.55589259, -0.51398968, -0.47208678,\n",
       "        -0.43018387, -0.38828096, -0.34637805, -0.30447514, -0.26257223,\n",
       "        -0.22066932, -0.17876641, -0.1368635 , -0.09496059, -0.05305768,\n",
       "        -0.01115477,  0.03074814,  0.07265105,  0.11455396,  0.15645687,\n",
       "         0.19835978,  0.24026269,  0.28216559,  0.3240685 ,  0.36597141,\n",
       "         0.40787432,  0.44977723,  0.49168014,  0.53358305,  0.57548596,\n",
       "         0.61738887,  0.65929178,  0.70119469,  0.7430976 ,  0.78500051,\n",
       "         0.82690342,  0.86880633,  0.91070924,  0.95261215,  0.99451505,\n",
       "         1.03641796,  1.07832087,  1.12022378,  1.16212669,  1.2040296 ,\n",
       "         1.24593251,  1.28783542,  1.32973833,  1.37164124,  1.41354415,\n",
       "         1.45544706,  1.49734997,  1.53925288,  1.58115579,  1.6230587 ,\n",
       "         1.66496161,  1.70686452,  1.74876742,  1.79067033,  1.83257324,\n",
       "         1.87447615,  1.91637906,  1.95828197,  2.00018488,  2.04208779,\n",
       "         2.0839907 ,  2.12589361,  2.16779652,  2.20969943,  2.25160234,\n",
       "         2.29350525,  2.33540816,  2.37731107,  2.41921398,  2.46111689,\n",
       "         2.50301979,  2.5449227 ,  2.58682561,  2.62872852,  2.67063143,\n",
       "         2.71253434,  2.75443725,  2.79634016,  2.83824307,  2.88014598,\n",
       "         2.92204889,  2.9639518 ,  3.00585471,  3.04775762,  3.08966053,\n",
       "         3.13156344,  3.17346635,  3.21536926,  3.25727216,  3.29917507,\n",
       "         3.34107798,  3.38298089,  3.4248838 ,  3.46678671,  3.50868962,\n",
       "         3.55059253,  3.59249544,  3.63439835,  3.67630126,  3.71820417,\n",
       "         3.76010708,  3.80200999,  3.8439129 ,  3.88581581,  3.92771872,\n",
       "         3.96962162]),\n",
       " <BarContainer object of 200 artists>)"
      ]
     },
     "execution_count": 12,
     "metadata": {},
     "output_type": "execute_result"
    },
    {
     "data": {
      "image/png": "[encoded data removed]",
      "text/plain": [
       "<Figure size 432x288 with 1 Axes>"
      ]
     },
     "metadata": {
      "needs_background": "light"
     },
     "output_type": "display_data"
    }
   ],
   "source": [
    "plt.hist(np.reshape(Net4.layers[2].W,-1),alpha=0.1,bins=200)"
   ]
  },
  {
   "cell_type": "markdown",
   "metadata": {},
   "source": [
    "## Test 2"
   ]
  },
  {
   "cell_type": "code",
   "execution_count": 13,
   "metadata": {},
   "outputs": [
    {
     "data": {
      "image/png": "[encoded data removed]",
      "text/plain": [
       "<Figure size 432x288 with 1 Axes>"
      ]
     },
     "metadata": {
      "needs_background": "light"
     },
     "output_type": "display_data"
    }
   ],
   "source": [
    "if run_training == True:\n",
    "    input_size = 3\n",
    "    output_size = 1\n",
    "    hidden_size = 5\n",
    "    \n",
    "    batch_size = 25\n",
    "    epochs = 1000\n",
    "    learning_rate = 10**-3\n",
    "    \n",
    "    s = 2\n",
    "    \n",
    "    Net = NN()\n",
    "    Net.add_layer(input_size, hidden_size)\n",
    "    #Net.add_layer(hidden_size, hidden_size)\n",
    "    Net.add_layer(hidden_size, output_size,activation=sigmoid)\n",
    "    errors = np.zeros(epochs)\n",
    "    \n",
    "    for i in range(epochs):\n",
    "        # Generate inputs\n",
    "        x,y=prepare_data(input_size,batch_size,sigma=s)\n",
    "        # Forward\n",
    "        y_hat = Net.forward(x)\n",
    "        #Error\n",
    "        e = (y-y_hat)\n",
    "        errors[i] = np.sum(e**2)\n",
    "        #backward\n",
    "        Net.backward(e, y_hat)\n",
    "        Net.update_weights(learning_rate)\n",
    "    plt.plot(errors)\n",
    "    plt.show()"
   ]
  }
 ],
 "metadata": {
  "kernelspec": {
   "display_name": "Python 3 (ipykernel)",
   "language": "python",
   "name": "python3"
  },
  "language_info": {
   "codemirror_mode": {
    "name": "ipython",
    "version": 3
   },
   "file_extension": ".py",
   "mimetype": "text/x-python",
   "name": "python",
   "nbconvert_exporter": "python",
   "pygments_lexer": "ipython3",
   "version": "3.9.7"
  }
 },
 "nbformat": 4,
 "nbformat_minor": 2
}
