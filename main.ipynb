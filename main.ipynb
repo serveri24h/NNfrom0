{
 "cells": [
  {
   "cell_type": "markdown",
   "metadata": {},
   "source": [
    "# Fully Connected Artificial Neural Networks from scratch\n",
    "\n",
    "#### This notebook implements neural network model with fully connected layers using only numpy\n",
    "#### ---------------------------------------------------------------------------------------------------------------\n",
    "\n",
    "This notebook demonstrates how fully connected neural network can be constructed without libraries such as PyTorch, Keras or Tensorflow which carry out most of the computations under the hood. This implementation is my on and I originally wrote to understand network models better while learning deep learning from various resources. Please note that the this neural network model is not ment to use with large dataset."
   ]
  },
  {
   "cell_type": "markdown",
   "metadata": {},
   "source": [
    "## Dependencies"
   ]
  },
  {
   "cell_type": "code",
   "execution_count": 336,
   "metadata": {},
   "outputs": [],
   "source": [
    "import numpy as np\n",
    "from matplotlib import pyplot as plt"
   ]
  },
  {
   "cell_type": "markdown",
   "metadata": {},
   "source": [
    "## Global Variables"
   ]
  },
  {
   "cell_type": "code",
   "execution_count": 337,
   "metadata": {},
   "outputs": [],
   "source": [
    "run_training=True"
   ]
  },
  {
   "cell_type": "markdown",
   "metadata": {},
   "source": [
    "## Toy Data\n",
    "\n",
    "#### The implementation for toy data generator can be found from toydata.py file"
   ]
  },
  {
   "cell_type": "code",
   "execution_count": 338,
   "metadata": {},
   "outputs": [],
   "source": [
    "from toydata import prepare_byte_data"
   ]
  },
  {
   "cell_type": "markdown",
   "metadata": {},
   "source": [
    "The \"prepare_byte_data\"-method generetas toy data in binary representation. The reasoning behind using binary data to solve a toy problem is that each bit can be used as a separate input. This representation is better suited for the neural network than using only one integer value.\n",
    "\n",
    "The format of the data is as follows:"
   ]
  },
  {
   "cell_type": "code",
   "execution_count": 339,
   "metadata": {},
   "outputs": [
    {
     "name": "stdout",
     "output_type": "stream",
     "text": [
      "Raw input is represented as:\n",
      "[[152]\n",
      " [ 42]\n",
      " [180]\n",
      " [233]\n",
      " [ 36]]\n",
      "\n",
      "Input in binary form is represented as:\n",
      "[[1. 0. 0. 1. 1. 0. 0. 0.]\n",
      " [0. 0. 1. 0. 1. 0. 1. 0.]\n",
      " [1. 0. 1. 1. 0. 1. 0. 0.]\n",
      " [1. 1. 1. 0. 1. 0. 0. 1.]\n",
      " [0. 0. 1. 0. 0. 1. 0. 0.]]\n",
      "\n",
      "True output y=2*x is represented as:\n",
      "[[304]\n",
      " [ 84]\n",
      " [360]\n",
      " [466]\n",
      " [ 72]]\n",
      "\n"
     ]
    }
   ],
   "source": [
    "sample_size = 5\n",
    "sample_data = prepare_byte_data(sample_size,y_function = lambda x:2*x)\n",
    "for i in range(len(sample_data)):\n",
    "    print(f\"{['Raw input', 'Input in binary form', 'True output y=2*x'][i]} is represented as:\\n{sample_data[i]}\\n\")"
   ]
  },
  {
   "cell_type": "markdown",
   "metadata": {},
   "source": [
    "## Activation funcitions\n",
    "\n",
    "#### Implementations for the activation functions can be found from activation_functions.py\n",
    "\n",
    "The following common activation functions are used in the toy problem\n",
    "* Sigmoid\n",
    "* ReLU"
   ]
  },
  {
   "cell_type": "code",
   "execution_count": 340,
   "metadata": {},
   "outputs": [],
   "source": [
    "from activation_functions import sigmoid, relu, no_activation"
   ]
  },
  {
   "cell_type": "markdown",
   "metadata": {},
   "source": [
    "## Fully connected layer\n",
    "\n",
    "#### Implementation of the fully connected layer used in the model with methods for forward and backward computations \n",
    "\n",
    "Each layer has\n",
    "* Wieght matrix, which includes the bias term if used. Weights will determine the output of the layer.\n",
    "* Activation function, which will be set no activation by default. Activation is applied after to provide nonlinearity.\n",
    "* Gradient matrix of the error with respect to weights (initialized to zero matrix)\n",
    "\n"
   ]
  },
  {
   "cell_type": "code",
   "execution_count": 341,
   "metadata": {},
   "outputs": [],
   "source": [
    "class layer:\n",
    "    def __init__(self,input_size,output_size,bias=True,activation=no_activation):\n",
    "        \n",
    "        # ---- Activation Function ----  \n",
    "        self.activation = activation\n",
    "        \n",
    "        # ---- Bias ----\n",
    "        self.bias = bias      \n",
    "        if bias: input_size+=1\n",
    "        \n",
    "        # ---- Weights ----\n",
    "        self.W = np.random.normal(0,1,(output_size,input_size))\n",
    "        \n",
    "        # ---- The gradient of the error with respect to weights ----\n",
    "        self.dW = np.zeros((output_size,input_size))\n",
    "    \n",
    "    def forward(self,x):\n",
    "        \n",
    "        # if bias term is used, constant 1 is added to each input to represent bias\n",
    "        if self.bias == True: x =  np.concatenate((x,np.ones((len(x),1))),axis=-1)\n",
    "        \n",
    "        # Input is saved for backward computations\n",
    "        self.z = x\n",
    "        \n",
    "        # (W^T)X\n",
    "        x = np.dot(x,np.transpose(self.W))\n",
    "        \n",
    "        # The activation is applied\n",
    "        x = self.activation(x)\n",
    "        \n",
    "        return x\n",
    "    \n",
    "    def backward(self,dy,y):\n",
    "        d = dy*self.activation(y,derivate=True)\n",
    "        dz = np.dot(d,self.W)\n",
    "        self.dW += np.dot(np.transpose(d),self.z)\n",
    "        if self.bias:\n",
    "            return dz[:,:-1],self.z[:,:-1]\n",
    "        return dz,self.z\n",
    "    \n",
    "    def update_weights(self,lr):\n",
    "        self.W -= lr*self.dW\n",
    "        self.dW = np.zeros(np.shape(self.W))\n",
    "        "
   ]
  },
  {
   "cell_type": "markdown",
   "metadata": {},
   "source": [
    "## Neural Network model with fully connected layers"
   ]
  },
  {
   "cell_type": "code",
   "execution_count": 342,
   "metadata": {},
   "outputs": [],
   "source": [
    "class NN():\n",
    "    def __init__(self):\n",
    "        self.layers=[]\n",
    "        self.N_layers = 0\n",
    "    \n",
    "    def forward(self,x):\n",
    "        for n in range(self.N_layers):\n",
    "            x = self.layers[n].forward(x)\n",
    "        return x\n",
    "    \n",
    "    def backward(self,e,y):\n",
    "        dy=-2*e\n",
    "        for n in range(self.N_layers):\n",
    "            dy,y = self.layers[-(n+1)].backward(dy,y)\n",
    "            \n",
    "    def update_weights(self,lr):\n",
    "        for n in range(self.N_layers):\n",
    "            self.layers[n].update_weights(lr)\n",
    "        \n",
    "    def add_layer(self,input_size,output_size,activation=no_activation,bias=True):\n",
    "        try:\n",
    "            new_layer = layer(input_size, output_size, activation=activation,bias=bias)\n",
    "            self.layers.append(new_layer)\n",
    "            self.N_layers+=1\n",
    "        except:\n",
    "            print(\"FAILURE\")"
   ]
  },
  {
   "cell_type": "markdown",
   "metadata": {},
   "source": [
    "## TEST 1  ||  y = 2x"
   ]
  },
  {
   "cell_type": "code",
   "execution_count": 343,
   "metadata": {},
   "outputs": [],
   "source": [
    "input_size = 1\n",
    "output_size = 1\n",
    "    \n",
    "batch_size = 20\n",
    "epochs = 2000\n",
    "\n",
    "#Learning for x**2\n",
    "lr = 10**-8\n",
    "\n",
    "true_function = lambda x:2*x\n",
    "\n",
    "# Initiate Neural network and add input_layer, hidden layer and output layer\n",
    "Net = NN()\n",
    "Net.add_layer(input_size, output_size)"
   ]
  },
  {
   "cell_type": "code",
   "execution_count": 344,
   "metadata": {},
   "outputs": [
    {
     "data": {
      "image/png": "[encoded data removed]",
      "text/plain": [
       "<Figure size 432x288 with 1 Axes>"
      ]
     },
     "metadata": {
      "needs_background": "light"
     },
     "output_type": "display_data"
    }
   ],
   "source": [
    "# Initiate error vector for plotting\n",
    "errors = np.zeros(epochs)\n",
    "\n",
    "for i in range(epochs):\n",
    "    # Generate inputs\n",
    "    x,x_bit,y = prepare_byte_data(batch_size, y_function = true_function)\n",
    "    \n",
    "    # Forward\n",
    "    y_hat = Net.forward(x)\n",
    "    \n",
    "    #Error\n",
    "    e = (y-y_hat)\n",
    "    \n",
    "    errors[i] = np.sqrt(np.sum(e**2)/batch_size)\n",
    "    \n",
    "    #backward\n",
    "    Net.backward(e, y_hat)\n",
    "    Net.update_weights(lr)\n",
    "    \n",
    "plt.plot(np.log(errors))\n",
    "plt.show()"
   ]
  },
  {
   "cell_type": "code",
   "execution_count": 345,
   "metadata": {},
   "outputs": [
    {
     "name": "stdout",
     "output_type": "stream",
     "text": [
      "#0: true = 508, guess = 506.92\n",
      "#1: true = 152, guess = 153.21\n",
      "#2: true = 442, guess = 441.35\n",
      "#3: true = 226, guess = 226.73\n",
      "#4: true = 470, guess = 469.17\n",
      "#5: true = 116, guess = 117.44\n",
      "#6: true = 52, guess = 53.85\n",
      "#7: true = 232, guess = 232.70\n",
      "#8: true = 24, guess = 26.03\n",
      "#9: true = 416, guess = 415.51\n"
     ]
    }
   ],
   "source": [
    "x_test,x_bit_test,y_test=prepare_byte_data(10, y_function = lambda x:2*x)\n",
    "y_hat_test = Net.forward(x)\n",
    "for i in range(0,10):\n",
    "    print(f\"#{i}: true = {y[i][0]}, guess = {y_hat[i][0]:.2f}\")"
   ]
  },
  {
   "cell_type": "code",
   "execution_count": 346,
   "metadata": {},
   "outputs": [
    {
     "name": "stdout",
     "output_type": "stream",
     "text": [
      "[[1.98715377 2.18765565]]\n"
     ]
    }
   ],
   "source": [
    "for l in Net.layers:\n",
    "    print(l.W)"
   ]
  },
  {
   "cell_type": "markdown",
   "metadata": {},
   "source": [
    "## TEST 2  ||  y  = x^2 "
   ]
  },
  {
   "cell_type": "markdown",
   "metadata": {},
   "source": [
    "## Create a Neural Network model"
   ]
  },
  {
   "cell_type": "code",
   "execution_count": 347,
   "metadata": {},
   "outputs": [],
   "source": [
    "input_size0 = 1\n",
    "output_size0 = 1\n",
    "\n",
    "input_size1 = 8\n",
    "output_size1 = 1\n",
    "hidden_size1 = 8\n",
    "\n",
    "\n",
    "\n",
    "# Initiate Neural network and add input_layer, hidden layer and output layer\n",
    "Net0 = NN()\n",
    "Net0.add_layer(input_size0, output_size0)\n",
    "\n",
    "\n",
    "# Initiate Neural network and add input_layer, hidden layer and output layer\n",
    "Net1 = NN()\n",
    "Net1.add_layer(input_size1, hidden_size1, activation = relu)\n",
    "Net1.add_layer(hidden_size1, hidden_size1, activation = relu)\n",
    "Net1.add_layer(hidden_size1, output_size1, activation = relu)\n",
    "\n",
    "batch_size = 10\n",
    "epochs = 2000\n"
   ]
  },
  {
   "cell_type": "code",
   "execution_count": 348,
   "metadata": {},
   "outputs": [
    {
     "data": {
      "image/png": "[encoded data removed]",
      "text/plain": [
       "<Figure size 432x288 with 1 Axes>"
      ]
     },
     "metadata": {
      "needs_background": "light"
     },
     "output_type": "display_data"
    }
   ],
   "source": [
    "# Initiate error vector for plotting\n",
    "errors0 = np.zeros(epochs)\n",
    "errors1 = np.zeros(epochs)\n",
    "\n",
    "lr0 = 10**-8\n",
    "lr1 = 4*10**-9\n",
    "true_function = lambda x:x**2\n",
    "\n",
    "for i in range(epochs):\n",
    "    # Generate inputs\n",
    "    x,x_bit,y = prepare_byte_data(batch_size, y_function = true_function)\n",
    "    \n",
    "    # Forward\n",
    "    y_hat0 = Net0.forward(x)\n",
    "    y_hat1 = Net1.forward(x_bit)\n",
    "    \n",
    "    #Error    \n",
    "    e0 = (y-y_hat0)\n",
    "    e1 = (y-y_hat1)\n",
    "    errors0[i] = np.sqrt( np.sum(e0**2)/batch_size )\n",
    "    errors1[i] = np.sqrt( np.sum(e1**2)/batch_size )\n",
    "    \n",
    "    #backward\n",
    "    Net0.backward(e0, y_hat0)\n",
    "    Net0.update_weights(lr0)\n",
    "    \n",
    "    Net1.backward(e1, y_hat1)\n",
    "    Net1.update_weights(lr1)\n",
    "\n",
    "plt.plot(np.log(errors0),color='red')\n",
    "plt.plot(np.log(errors1),color='green')\n",
    "plt.show()"
   ]
  },
  {
   "cell_type": "code",
   "execution_count": 349,
   "metadata": {},
   "outputs": [
    {
     "name": "stdout",
     "output_type": "stream",
     "text": [
      "#0: true = 784, model-0 prediction = 5350.91, model-1 prediction = 1095.97\n",
      "#1: true = 13225, model-0 prediction = 21979.31, model-1 prediction = 13348.41\n",
      "#2: true = 19044, model-0 prediction = 26375.32, model-1 prediction = 17651.68\n",
      "#3: true = 25921, model-0 prediction = 30771.33, model-1 prediction = 26146.56\n",
      "#4: true = 7056, model-0 prediction = 16054.25, model-1 prediction = 6281.15\n",
      "#5: true = 2916, model-0 prediction = 10320.32, model-1 prediction = 2747.36\n",
      "#6: true = 40804, model-0 prediction = 38607.70, model-1 prediction = 41935.54\n",
      "#7: true = 43264, model-0 prediction = 39754.49, model-1 prediction = 44256.74\n",
      "#8: true = 7056, model-0 prediction = 16054.25, model-1 prediction = 6281.15\n",
      "#9: true = 6889, model-0 prediction = 15863.12, model-1 prediction = 6177.73\n"
     ]
    }
   ],
   "source": [
    "x_test, x_bit_test, y_test=prepare_byte_data(10, y_function = true_function)\n",
    "\n",
    "y_hat_test0 = Net0.forward(x)\n",
    "y_hat_test1 = Net1.forward(x_bit)\n",
    "for i in range(0,10):\n",
    "    print(f\"#{i}: true = {y[i][0]}, model-0 prediction = {y_hat_test0[i][0]:.2f}, model-1 prediction = {y_hat_test1[i][0]:.2f}\")"
   ]
  }
 ],
 "metadata": {
  "kernelspec": {
   "display_name": "Python 3 (ipykernel)",
   "language": "python",
   "name": "python3"
  },
  "language_info": {
   "codemirror_mode": {
    "name": "ipython",
    "version": 3
   },
   "file_extension": ".py",
   "mimetype": "text/x-python",
   "name": "python",
   "nbconvert_exporter": "python",
   "pygments_lexer": "ipython3",
   "version": "3.9.7"
  }
 },
 "nbformat": 4,
 "nbformat_minor": 2
}
